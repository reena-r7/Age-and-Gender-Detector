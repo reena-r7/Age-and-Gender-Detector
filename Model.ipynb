{
 "metadata": {
  "language_info": {
   "codemirror_mode": {
    "name": "ipython",
    "version": 3
   },
   "file_extension": ".py",
   "mimetype": "text/x-python",
   "name": "python",
   "nbconvert_exporter": "python",
   "pygments_lexer": "ipython3",
   "version": "3.9.0"
  },
  "orig_nbformat": 2,
  "kernelspec": {
   "name": "python390jvsc74a57bd061b8cd660cdffd3bdbe0d55b952bbc0d159fcf6e2f5056e00d85f47a3f649fcf",
   "display_name": "Python 3.9.0 64-bit"
  },
  "metadata": {
   "interpreter": {
    "hash": "61b8cd660cdffd3bdbe0d55b952bbc0d159fcf6e2f5056e00d85f47a3f649fcf"
   }
  }
 },
 "nbformat": 4,
 "nbformat_minor": 2,
 "cells": [
  {
   "source": [
    "#model notebook\n",
    "#here data is extracted and train and put it to the model and we will value our results and optimize the model for better results"
   ],
   "cell_type": "markdown",
   "metadata": {}
  },
  {
   "source": [
    "#import the libraries"
   ],
   "cell_type": "markdown",
   "metadata": {}
  },
  {
   "cell_type": "code",
   "execution_count": 17,
   "metadata": {},
   "outputs": [],
   "source": [
    "import tensorflow as tf\n",
    "from cv2 import cv2\n",
    "import numpy as np\n",
    "from matplotlib import pyplot as plt \n",
    "from tensorflow.keras.layers import Dropout\n",
    "from tensorflow.keras.layers import Flatten\n",
    "from tensorflow.keras.layers import BatchNormalization\n",
    "from tensorflow.keras.layers import Dense, MaxPooling2D, Conv2D\n",
    "from tensorflow.keras.models import Model\n",
    "from tensorflow.keras.layers import Input, Activation, Add\n",
    "from tensorflow.keras.regularizers import l2\n",
    "from tensorflow.keras.optimizers import Adam, Adagrad, Adadelta, Adamax, RMSprop"
   ]
  },
  {
   "source": [
    "#extract data from dataset"
   ],
   "cell_type": "markdown",
   "metadata": {}
  },
  {
   "source": [
    "if data has not been downloaded yet then download it from [Here](https://www.kaggle.com/jangedoo/utkface-new)"
   ],
   "cell_type": "markdown",
   "metadata": {}
  },
  {
   "cell_type": "code",
   "execution_count": 18,
   "metadata": {},
   "outputs": [],
   "source": [
    "fldr='./UTKFace'"
   ]
  },
  {
   "cell_type": "code",
   "execution_count": 19,
   "metadata": {},
   "outputs": [],
   "source": [
    "import os\n",
    "files=os.listdir(fldr)"
   ]
  },
  {
   "source": [
    "#create list of images from the dataset"
   ],
   "cell_type": "markdown",
   "metadata": {}
  },
  {
   "cell_type": "code",
   "execution_count": 20,
   "metadata": {
    "tags": [
     "outputPrepend"
    ]
   },
   "outputs": [
    {
     "output_type": "stream",
     "name": "stdout",
     "text": [
      "170109204516373.jpg.chip.jpg\n",
      "./UTKFace/8_1_0_20170109204532695.jpg.chip.jpg\n",
      "./UTKFace/8_1_0_20170109204534346.jpg.chip.jpg\n",
      "./UTKFace/8_1_0_20170109204542015.jpg.chip.jpg\n",
      "./UTKFace/8_1_0_20170109204605797.jpg.chip.jpg\n",
      "./UTKFace/8_1_0_20170109204608113.jpg.chip.jpg\n",
      "./UTKFace/8_1_0_20170109204627905.jpg.chip.jpg\n",
      "./UTKFace/8_1_0_20170109204756399.jpg.chip.jpg\n",
      "./UTKFace/8_1_0_20170109204817102.jpg.chip.jpg\n",
      "./UTKFace/8_1_0_20170109204818624.jpg.chip.jpg\n",
      "./UTKFace/8_1_0_20170109204830640.jpg.chip.jpg\n",
      "./UTKFace/8_1_0_20170109204836782.jpg.chip.jpg\n",
      "./UTKFace/8_1_0_20170109204901514.jpg.chip.jpg\n",
      "./UTKFace/8_1_0_20170109204910999.jpg.chip.jpg\n",
      "./UTKFace/8_1_0_20170109204920415.jpg.chip.jpg\n",
      "./UTKFace/8_1_0_20170109204933562.jpg.chip.jpg\n",
      "./UTKFace/8_1_0_20170109204954253.jpg.chip.jpg\n",
      "./UTKFace/8_1_0_20170109205008946.jpg.chip.jpg\n",
      "./UTKFace/8_1_0_20170109205015327.jpg.chip.jpg\n",
      "./UTKFace/8_1_0_20170109205018500.jpg.chip.jpg\n",
      "./UTKFace/8_1_0_20170109205020218.jpg.chip.jpg\n",
      "./UTKFace/8_1_0_20170109205022859.jpg.chip.jpg\n",
      "./UTKFace/8_1_0_20170109205024714.jpg.chip.jpg\n",
      "./UTKFace/8_1_0_20170109205028805.jpg.chip.jpg\n",
      "./UTKFace/8_1_0_20170109205030055.jpg.chip.jpg\n",
      "./UTKFace/8_1_0_20170109205031725.jpg.chip.jpg\n",
      "./UTKFace/8_1_0_20170109205040140.jpg.chip.jpg\n",
      "./UTKFace/8_1_0_20170109205108577.jpg.chip.jpg\n",
      "./UTKFace/8_1_0_20170109205109678.jpg.chip.jpg\n",
      "./UTKFace/8_1_0_20170109205116937.jpg.chip.jpg\n",
      "./UTKFace/8_1_0_20170109205127726.jpg.chip.jpg\n",
      "./UTKFace/8_1_0_20170109205218680.jpg.chip.jpg\n",
      "./UTKFace/8_1_0_20170109205256828.jpg.chip.jpg\n",
      "./UTKFace/8_1_0_20170109205258890.jpg.chip.jpg\n",
      "./UTKFace/8_1_0_20170109205303856.jpg.chip.jpg\n",
      "./UTKFace/8_1_0_20170109205311048.jpg.chip.jpg\n",
      "./UTKFace/8_1_0_20170109205329922.jpg.chip.jpg\n",
      "./UTKFace/8_1_0_20170109205351904.jpg.chip.jpg\n",
      "./UTKFace/8_1_0_20170109205416266.jpg.chip.jpg\n",
      "./UTKFace/8_1_0_20170109205426790.jpg.chip.jpg\n",
      "./UTKFace/8_1_0_20170109205428806.jpg.chip.jpg\n",
      "./UTKFace/8_1_0_20170109205515528.jpg.chip.jpg\n",
      "./UTKFace/8_1_0_20170116200940428.jpg.chip.jpg\n",
      "./UTKFace/8_1_0_20170116234733445.jpg.chip.jpg\n",
      "./UTKFace/8_1_0_20170117154607954.jpg.chip.jpg\n",
      "./UTKFace/8_1_0_20170117175651555.jpg.chip.jpg\n",
      "./UTKFace/8_1_0_20170117175940947.jpg.chip.jpg\n",
      "./UTKFace/8_1_0_20170117175943380.jpg.chip.jpg\n",
      "./UTKFace/8_1_0_20170117175945147.jpg.chip.jpg\n",
      "./UTKFace/8_1_0_20170117195424950.jpg.chip.jpg\n",
      "./UTKFace/8_1_0_20170120230542954.jpg.chip.jpg\n",
      "./UTKFace/8_1_1_20170109203252446.jpg.chip.jpg\n",
      "./UTKFace/8_1_1_20170109203648153.jpg.chip.jpg\n",
      "./UTKFace/8_1_1_20170109205445571.jpg.chip.jpg\n",
      "./UTKFace/8_1_1_20170112211035045.jpg.chip.jpg\n",
      "./UTKFace/8_1_1_20170113000012514.jpg.chip.jpg\n",
      "./UTKFace/8_1_1_20170116153005352.jpg.chip.jpg\n",
      "./UTKFace/8_1_1_20170117135414790.jpg.chip.jpg\n",
      "./UTKFace/8_1_1_20170117170013457.jpg.chip.jpg\n",
      "./UTKFace/8_1_2_20161219153017828.jpg.chip.jpg\n",
      "./UTKFace/8_1_2_20161219163612574.jpg.chip.jpg\n",
      "./UTKFace/8_1_2_20161219163614671.jpg.chip.jpg\n",
      "./UTKFace/8_1_2_20161219163616367.jpg.chip.jpg\n",
      "./UTKFace/8_1_2_20161219190656899.jpg.chip.jpg\n",
      "./UTKFace/8_1_2_20161219194234250.jpg.chip.jpg\n",
      "./UTKFace/8_1_2_20170104005626607.jpg.chip.jpg\n",
      "./UTKFace/8_1_2_20170109201847910.jpg.chip.jpg\n",
      "./UTKFace/8_1_2_20170109203442372.jpg.chip.jpg\n",
      "./UTKFace/8_1_2_20170109203443934.jpg.chip.jpg\n",
      "./UTKFace/8_1_2_20170109203456419.jpg.chip.jpg\n",
      "./UTKFace/8_1_2_20170109203855544.jpg.chip.jpg\n",
      "./UTKFace/8_1_2_20170109204518758.jpg.chip.jpg\n",
      "./UTKFace/8_1_2_20170109205348937.jpg.chip.jpg\n",
      "./UTKFace/8_1_2_20170109205424712.jpg.chip.jpg\n",
      "./UTKFace/8_1_2_20170116194013325.jpg.chip.jpg\n",
      "./UTKFace/8_1_3_20161220220229729.jpg.chip.jpg\n",
      "./UTKFace/8_1_3_20161220220233122.jpg.chip.jpg\n",
      "./UTKFace/8_1_3_20161220220407073.jpg.chip.jpg\n",
      "./UTKFace/8_1_3_20161220220642802.jpg.chip.jpg\n",
      "./UTKFace/8_1_3_20161220220832858.jpg.chip.jpg\n",
      "./UTKFace/8_1_3_20161220222527146.jpg.chip.jpg\n",
      "./UTKFace/8_1_3_20161220222531163.jpg.chip.jpg\n",
      "./UTKFace/8_1_3_20161220222535466.jpg.chip.jpg\n",
      "./UTKFace/8_1_3_20161220222538539.jpg.chip.jpg\n",
      "./UTKFace/8_1_3_20161220222610115.jpg.chip.jpg\n",
      "./UTKFace/8_1_3_20161220222819947.jpg.chip.jpg\n",
      "./UTKFace/8_1_3_20161220222820773.jpg.chip.jpg\n",
      "./UTKFace/8_1_3_20170104221650071.jpg.chip.jpg\n",
      "./UTKFace/8_1_3_20170104221730663.jpg.chip.jpg\n",
      "./UTKFace/8_1_3_20170104221828238.jpg.chip.jpg\n",
      "./UTKFace/8_1_3_20170104221914568.jpg.chip.jpg\n",
      "./UTKFace/8_1_3_20170104222252734.jpg.chip.jpg\n",
      "./UTKFace/8_1_3_20170104222431175.jpg.chip.jpg\n",
      "./UTKFace/8_1_3_20170104222635007.jpg.chip.jpg\n",
      "./UTKFace/8_1_3_20170104222705308.jpg.chip.jpg\n",
      "./UTKFace/8_1_3_20170104222709156.jpg.chip.jpg\n",
      "./UTKFace/8_1_3_20170104222819874.jpg.chip.jpg\n",
      "./UTKFace/8_1_3_20170109205422312.jpg.chip.jpg\n",
      "./UTKFace/8_1_3_20170117185042185.jpg.chip.jpg\n",
      "./UTKFace/8_1_4_20161221202611945.jpg.chip.jpg\n",
      "./UTKFace/8_1_4_20161223230041764.jpg.chip.jpg\n",
      "./UTKFace/8_1_4_20161223230045701.jpg.chip.jpg\n",
      "./UTKFace/8_1_4_20161223232240516.jpg.chip.jpg\n",
      "./UTKFace/8_1_4_20170103200403187.jpg.chip.jpg\n",
      "./UTKFace/8_1_4_20170103200419199.jpg.chip.jpg\n",
      "./UTKFace/8_1_4_20170103210016155.jpg.chip.jpg\n",
      "./UTKFace/8_1_4_20170103212955884.jpg.chip.jpg\n",
      "./UTKFace/8_1_4_20170103214220325.jpg.chip.jpg\n",
      "./UTKFace/8_1_4_20170103233220163.jpg.chip.jpg\n",
      "./UTKFace/8_1_4_20170104005228631.jpg.chip.jpg\n",
      "./UTKFace/8_1_4_20170104005426863.jpg.chip.jpg\n",
      "./UTKFace/8_1_4_20170104005525759.jpg.chip.jpg\n",
      "./UTKFace/8_1_4_20170104010936352.jpg.chip.jpg\n",
      "./UTKFace/8_1_4_20170109201742209.jpg.chip.jpg\n",
      "./UTKFace/8_1_4_20170109201844552.jpg.chip.jpg\n",
      "./UTKFace/8_1_4_20170109202334991.jpg.chip.jpg\n",
      "./UTKFace/8_1_4_20170109202358152.jpg.chip.jpg\n",
      "./UTKFace/8_1_4_20170109202746183.jpg.chip.jpg\n",
      "./UTKFace/8_1_4_20170109202753127.jpg.chip.jpg\n",
      "./UTKFace/8_1_4_20170117192945532.jpg.chip.jpg\n",
      "./UTKFace/90_0_0_20170110175833643.jpg.chip.jpg\n",
      "./UTKFace/90_0_0_20170111205428761.jpg.chip.jpg\n",
      "./UTKFace/90_0_0_20170111205657119.jpg.chip.jpg\n",
      "./UTKFace/90_0_0_20170111210057456.jpg.chip.jpg\n",
      "./UTKFace/90_0_0_20170111210151491.jpg.chip.jpg\n",
      "./UTKFace/90_0_0_20170111210220723.jpg.chip.jpg\n",
      "./UTKFace/90_0_0_20170111210338948.jpg.chip.jpg\n",
      "./UTKFace/90_0_0_20170111210403969.jpg.chip.jpg\n",
      "./UTKFace/90_0_0_20170111210501751.jpg.chip.jpg\n",
      "./UTKFace/90_0_0_20170111210516589.jpg.chip.jpg\n",
      "./UTKFace/90_0_0_20170111210545876.jpg.chip.jpg\n",
      "./UTKFace/90_0_0_20170111210753614.jpg.chip.jpg\n",
      "./UTKFace/90_0_0_20170111211204031.jpg.chip.jpg\n",
      "./UTKFace/90_0_0_20170111211332406.jpg.chip.jpg\n",
      "./UTKFace/90_0_0_20170111211345356.jpg.chip.jpg\n",
      "./UTKFace/90_0_0_20170111211402785.jpg.chip.jpg\n",
      "./UTKFace/90_0_0_20170111211415063.jpg.chip.jpg\n",
      "./UTKFace/90_0_0_20170111221647621.jpg.chip.jpg\n",
      "./UTKFace/90_0_0_20170111222149759.jpg.chip.jpg\n",
      "./UTKFace/90_0_0_20170111222243901.jpg.chip.jpg\n",
      "./UTKFace/90_0_0_20170111222418306.jpg.chip.jpg\n",
      "./UTKFace/90_0_0_20170111222613993.jpg.chip.jpg\n",
      "./UTKFace/90_0_0_20170111223757607.jpg.chip.jpg\n",
      "./UTKFace/90_0_0_20170111224014347.jpg.chip.jpg\n",
      "./UTKFace/90_0_0_20170117174931541.jpg.chip.jpg\n",
      "./UTKFace/90_0_0_20170117174936333.jpg.chip.jpg\n",
      "./UTKFace/90_0_0_20170117175416532.jpg.chip.jpg\n",
      "./UTKFace/90_0_0_20170117175429276.jpg.chip.jpg\n",
      "./UTKFace/90_0_0_20170117175511939.jpg.chip.jpg\n",
      "./UTKFace/90_0_0_20170120222443834.jpg.chip.jpg\n",
      "./UTKFace/90_0_0_20170120230038954.jpg.chip.jpg\n",
      "./UTKFace/90_0_1_20170111205407457.jpg.chip.jpg\n",
      "./UTKFace/90_0_1_20170111210246547.jpg.chip.jpg\n",
      "./UTKFace/90_0_1_20170111223916765.jpg.chip.jpg\n",
      "./UTKFace/90_0_1_20170113184758168.jpg.chip.jpg\n",
      "./UTKFace/90_0_1_20170117194324750.jpg.chip.jpg\n",
      "./UTKFace/90_0_1_20170117195102223.jpg.chip.jpg\n",
      "./UTKFace/90_0_2_20170110183643228.jpg.chip.jpg\n",
      "./UTKFace/90_0_2_20170111210008312.jpg.chip.jpg\n",
      "./UTKFace/90_0_2_20170111210212331.jpg.chip.jpg\n",
      "./UTKFace/90_0_2_20170111210301275.jpg.chip.jpg\n",
      "./UTKFace/90_0_2_20170111210435708.jpg.chip.jpg\n",
      "./UTKFace/90_0_2_20170111210740854.jpg.chip.jpg\n",
      "./UTKFace/90_0_2_20170111223901221.jpg.chip.jpg\n",
      "./UTKFace/90_0_2_20170112224517852.jpg.chip.jpg\n",
      "./UTKFace/90_0_2_20170112224606516.jpg.chip.jpg\n",
      "./UTKFace/90_0_3_20170111210252274.jpg.chip.jpg\n",
      "./UTKFace/90_1_0_20170110143355280.jpg.chip.jpg\n",
      "./UTKFace/90_1_0_20170110155210772.jpg.chip.jpg\n",
      "./UTKFace/90_1_0_20170110172628748.jpg.chip.jpg\n",
      "./UTKFace/90_1_0_20170110175738208.jpg.chip.jpg\n",
      "./UTKFace/90_1_0_20170110175843628.jpg.chip.jpg\n",
      "./UTKFace/90_1_0_20170110180120743.jpg.chip.jpg\n",
      "./UTKFace/90_1_0_20170110180516399.jpg.chip.jpg\n",
      "./UTKFace/90_1_0_20170110182008441.jpg.chip.jpg\n",
      "./UTKFace/90_1_0_20170110182426286.jpg.chip.jpg\n",
      "./UTKFace/90_1_0_20170110182536477.jpg.chip.jpg\n",
      "./UTKFace/90_1_0_20170110182841384.jpg.chip.jpg\n",
      "./UTKFace/90_1_0_20170110182910242.jpg.chip.jpg\n",
      "./UTKFace/90_1_0_20170110183401767.jpg.chip.jpg\n",
      "./UTKFace/90_1_0_20170110183406830.jpg.chip.jpg\n",
      "./UTKFace/90_1_0_20170110183452817.jpg.chip.jpg\n",
      "./UTKFace/90_1_0_20170110183737626.jpg.chip.jpg\n",
      "./UTKFace/90_1_0_20170111211648525.jpg.chip.jpg\n",
      "./UTKFace/90_1_0_20170117175312742.jpg.chip.jpg\n",
      "./UTKFace/90_1_0_20170120140047472.jpg.chip.jpg\n",
      "./UTKFace/90_1_0_20170120221550509.jpg.chip.jpg\n",
      "./UTKFace/90_1_0_20170120221911645.jpg.chip.jpg\n",
      "./UTKFace/90_1_0_20170120224954568.jpg.chip.jpg\n",
      "./UTKFace/90_1_0_20170120225317689.jpg.chip.jpg\n",
      "./UTKFace/90_1_0_20170120225510266.jpg.chip.jpg\n",
      "./UTKFace/90_1_0_20170120225831522.jpg.chip.jpg\n",
      "./UTKFace/90_1_0_20170120230204074.jpg.chip.jpg\n",
      "./UTKFace/90_1_0_20170120230312163.jpg.chip.jpg\n",
      "./UTKFace/90_1_1_20170113184500142.jpg.chip.jpg\n",
      "./UTKFace/90_1_1_20170117194843274.jpg.chip.jpg\n",
      "./UTKFace/90_1_1_20170117195305990.jpg.chip.jpg\n",
      "./UTKFace/90_1_1_20170120220828835.jpg.chip.jpg\n",
      "./UTKFace/90_1_2_20170110183630709.jpg.chip.jpg\n",
      "./UTKFace/90_1_2_20170110183708997.jpg.chip.jpg\n",
      "./UTKFace/90_1_2_20170111205444634.jpg.chip.jpg\n",
      "./UTKFace/90_1_2_20170111221639268.jpg.chip.jpg\n",
      "./UTKFace/91_0_1_20170117194736477.jpg.chip.jpg\n",
      "./UTKFace/91_1_2_20170105174644734.jpg.chip.jpg\n",
      "./UTKFace/92_0_0_20170111223719595.jpg.chip.jpg\n",
      "./UTKFace/92_0_2_20170105174832245.jpg.chip.jpg\n",
      "./UTKFace/92_0_3_20170105180848734.jpg.chip.jpg\n",
      "./UTKFace/92_1_0_20170110133307879.jpg.chip.jpg\n",
      "./UTKFace/92_1_0_20170110175809576.jpg.chip.jpg\n",
      "./UTKFace/92_1_0_20170110182333823.jpg.chip.jpg\n",
      "./UTKFace/92_1_0_20170110182402526.jpg.chip.jpg\n",
      "./UTKFace/92_1_0_20170110182830022.jpg.chip.jpg\n",
      "./UTKFace/92_1_0_20170110183055235.jpg.chip.jpg\n",
      "./UTKFace/92_1_0_20170110183357210.jpg.chip.jpg\n",
      "./UTKFace/92_1_0_20170110183501116.jpg.chip.jpg\n",
      "./UTKFace/92_1_2_20170110175823500.jpg.chip.jpg\n",
      "./UTKFace/92_1_2_20170110182855209.jpg.chip.jpg\n",
      "./UTKFace/93_1_0_20170110141221528.jpg.chip.jpg\n",
      "./UTKFace/93_1_0_20170110182437844.jpg.chip.jpg\n",
      "./UTKFace/93_1_0_20170120225257592.jpg.chip.jpg\n",
      "./UTKFace/93_1_0_20170120225304313.jpg.chip.jpg\n",
      "./UTKFace/93_1_2_20170110173119858.jpg.chip.jpg\n",
      "./UTKFace/95_1_0_20170110175711811.jpg.chip.jpg\n",
      "./UTKFace/95_1_0_20170110182409918.jpg.chip.jpg\n",
      "./UTKFace/95_1_0_20170117174948948.jpg.chip.jpg\n",
      "./UTKFace/95_1_0_20170120140026048.jpg.chip.jpg\n",
      "./UTKFace/95_1_0_20170120230149594.jpg.chip.jpg\n",
      "./UTKFace/95_1_0_20170120230322267.jpg.chip.jpg\n",
      "./UTKFace/95_1_2_20170110182531150.jpg.chip.jpg\n",
      "./UTKFace/95_1_2_20170112224548347.jpg.chip.jpg\n",
      "./UTKFace/95_1_2_20170120225327083.jpg.chip.jpg\n",
      "./UTKFace/96_1_0_20170110161321170.jpg.chip.jpg\n",
      "./UTKFace/96_1_0_20170110172637082.jpg.chip.jpg\n",
      "./UTKFace/96_1_0_20170110173805290.jpg.chip.jpg\n",
      "./UTKFace/96_1_0_20170110182019881.jpg.chip.jpg\n",
      "./UTKFace/96_1_0_20170110182026396.jpg.chip.jpg\n",
      "./UTKFace/96_1_0_20170110182433943.jpg.chip.jpg\n",
      "./UTKFace/96_1_0_20170110182515404.jpg.chip.jpg\n",
      "./UTKFace/96_1_0_20170110183855839.jpg.chip.jpg\n",
      "./UTKFace/96_1_1_20170110183853718.jpg.chip.jpg\n",
      "./UTKFace/96_1_1_20170117183936388.jpg.chip.jpg\n",
      "./UTKFace/96_1_2_20170105174624519.jpg.chip.jpg\n",
      "./UTKFace/96_1_2_20170110175716420.jpg.chip.jpg\n",
      "./UTKFace/96_1_2_20170110182504813.jpg.chip.jpg\n",
      "./UTKFace/96_1_2_20170110182526540.jpg.chip.jpg\n",
      "./UTKFace/96_1_2_20170110183043609.jpg.chip.jpg\n",
      "./UTKFace/96_1_2_20170110183528193.jpg.chip.jpg\n",
      "./UTKFace/96_1_3_20170110180250210.jpg.chip.jpg\n",
      "./UTKFace/99_0_0_20170117195137161.jpg.chip.jpg\n",
      "./UTKFace/99_1_0_20170110182052119.jpg.chip.jpg\n",
      "./UTKFace/99_1_0_20170113013141679.jpg.chip.jpg\n",
      "./UTKFace/99_1_0_20170120133837030.jpg.chip.jpg\n",
      "./UTKFace/99_1_0_20170120134718759.jpg.chip.jpg\n",
      "./UTKFace/99_1_0_20170120221920654.jpg.chip.jpg\n",
      "./UTKFace/99_1_1_20170120134639935.jpg.chip.jpg\n",
      "./UTKFace/99_1_2_20170110182418864.jpg.chip.jpg\n",
      "./UTKFace/99_1_2_20170117195405372.jpg.chip.jpg\n",
      "./UTKFace/9_0_0_20170102235106821.jpg.chip.jpg\n",
      "./UTKFace/9_0_0_20170102235122268.jpg.chip.jpg\n",
      "./UTKFace/9_0_0_20170110215447268.jpg.chip.jpg\n",
      "./UTKFace/9_0_0_20170110215453036.jpg.chip.jpg\n",
      "./UTKFace/9_0_0_20170110215514548.jpg.chip.jpg\n",
      "./UTKFace/9_0_0_20170110215516060.jpg.chip.jpg\n",
      "./UTKFace/9_0_0_20170110215520268.jpg.chip.jpg\n",
      "./UTKFace/9_0_0_20170110215523228.jpg.chip.jpg\n",
      "./UTKFace/9_0_0_20170110215653284.jpg.chip.jpg\n",
      "./UTKFace/9_0_0_20170110215848132.jpg.chip.jpg\n",
      "./UTKFace/9_0_0_20170110220005370.jpg.chip.jpg\n",
      "./UTKFace/9_0_0_20170110220016235.jpg.chip.jpg\n",
      "./UTKFace/9_0_0_20170110220040107.jpg.chip.jpg\n",
      "./UTKFace/9_0_0_20170110220058915.jpg.chip.jpg\n",
      "./UTKFace/9_0_0_20170110220110042.jpg.chip.jpg\n",
      "./UTKFace/9_0_0_20170110220130810.jpg.chip.jpg\n",
      "./UTKFace/9_0_0_20170110220132059.jpg.chip.jpg\n",
      "./UTKFace/9_0_0_20170110220133114.jpg.chip.jpg\n",
      "./UTKFace/9_0_0_20170110220134026.jpg.chip.jpg\n",
      "./UTKFace/9_0_0_20170110220148443.jpg.chip.jpg\n",
      "./UTKFace/9_0_0_20170110220149298.jpg.chip.jpg\n",
      "./UTKFace/9_0_0_20170110220150362.jpg.chip.jpg\n",
      "./UTKFace/9_0_0_20170110220151722.jpg.chip.jpg\n",
      "./UTKFace/9_0_0_20170110220153114.jpg.chip.jpg\n",
      "./UTKFace/9_0_0_20170110220159083.jpg.chip.jpg\n",
      "./UTKFace/9_0_0_20170110220232058.jpg.chip.jpg\n",
      "./UTKFace/9_0_0_20170110220236260.jpg.chip.jpg\n",
      "./UTKFace/9_0_0_20170110220237634.jpg.chip.jpg\n",
      "./UTKFace/9_0_0_20170110220238481.jpg.chip.jpg\n",
      "./UTKFace/9_0_0_20170110220239466.jpg.chip.jpg\n",
      "./UTKFace/9_0_0_20170110220240322.jpg.chip.jpg\n",
      "./UTKFace/9_0_0_20170110220241330.jpg.chip.jpg\n",
      "./UTKFace/9_0_0_20170110220311291.jpg.chip.jpg\n",
      "./UTKFace/9_0_0_20170110220312322.jpg.chip.jpg\n",
      "./UTKFace/9_0_0_20170110220339426.jpg.chip.jpg\n",
      "./UTKFace/9_0_0_20170110220351738.jpg.chip.jpg\n",
      "./UTKFace/9_0_0_20170110220406314.jpg.chip.jpg\n",
      "./UTKFace/9_0_0_20170110220411186.jpg.chip.jpg\n",
      "./UTKFace/9_0_0_20170110220413289.jpg.chip.jpg\n",
      "./UTKFace/9_0_0_20170110220427042.jpg.chip.jpg\n",
      "./UTKFace/9_0_0_20170110220441522.jpg.chip.jpg\n",
      "./UTKFace/9_0_0_20170110220442681.jpg.chip.jpg\n",
      "./UTKFace/9_0_0_20170110220449969.jpg.chip.jpg\n",
      "./UTKFace/9_0_0_20170110220510618.jpg.chip.jpg\n",
      "./UTKFace/9_0_0_20170110220515721.jpg.chip.jpg\n",
      "./UTKFace/9_0_0_20170110220532651.jpg.chip.jpg\n",
      "./UTKFace/9_0_0_20170110220536562.jpg.chip.jpg\n",
      "./UTKFace/9_0_0_20170110220559873.jpg.chip.jpg\n",
      "./UTKFace/9_0_0_20170110220601810.jpg.chip.jpg\n",
      "./UTKFace/9_0_0_20170110220623658.jpg.chip.jpg\n",
      "./UTKFace/9_0_0_20170110220624626.jpg.chip.jpg\n",
      "./UTKFace/9_0_0_20170110220625994.jpg.chip.jpg\n",
      "./UTKFace/9_0_0_20170110220658769.jpg.chip.jpg\n",
      "./UTKFace/9_0_0_20170110220700428.jpg.chip.jpg\n",
      "./UTKFace/9_0_0_20170110220712974.jpg.chip.jpg\n",
      "./UTKFace/9_0_0_20170110221659430.jpg.chip.jpg\n",
      "./UTKFace/9_0_0_20170110221701052.jpg.chip.jpg\n",
      "./UTKFace/9_0_0_20170110221716630.jpg.chip.jpg\n",
      "./UTKFace/9_0_0_20170110221721404.jpg.chip.jpg\n",
      "./UTKFace/9_0_0_20170110221723108.jpg.chip.jpg\n",
      "./UTKFace/9_0_0_20170110221724498.jpg.chip.jpg\n",
      "./UTKFace/9_0_0_20170110221815301.jpg.chip.jpg\n",
      "./UTKFace/9_0_0_20170110222903669.jpg.chip.jpg\n",
      "./UTKFace/9_0_0_20170110223421536.jpg.chip.jpg\n",
      "./UTKFace/9_0_0_20170110223423662.jpg.chip.jpg\n",
      "./UTKFace/9_0_0_20170110223425782.jpg.chip.jpg\n",
      "./UTKFace/9_0_0_20170110223500322.jpg.chip.jpg\n",
      "./UTKFace/9_0_0_20170110223916896.jpg.chip.jpg\n",
      "./UTKFace/9_0_0_20170110224240532.jpg.chip.jpg\n",
      "./UTKFace/9_0_0_20170110224305302.jpg.chip.jpg\n",
      "./UTKFace/9_0_0_20170110224351698.jpg.chip.jpg\n",
      "./UTKFace/9_0_0_20170110224404052.jpg.chip.jpg\n",
      "./UTKFace/9_0_0_20170110224411209.jpg.chip.jpg\n",
      "./UTKFace/9_0_0_20170110224425000.jpg.chip.jpg\n",
      "./UTKFace/9_0_0_20170110224437980.jpg.chip.jpg\n",
      "./UTKFace/9_0_0_20170110224455692.jpg.chip.jpg\n",
      "./UTKFace/9_0_0_20170110224508007.jpg.chip.jpg\n",
      "./UTKFace/9_0_0_20170110224542473.jpg.chip.jpg\n",
      "./UTKFace/9_0_0_20170110224545102.jpg.chip.jpg\n",
      "./UTKFace/9_0_0_20170110224558724.jpg.chip.jpg\n",
      "./UTKFace/9_0_0_20170110224607682.jpg.chip.jpg\n",
      "./UTKFace/9_0_0_20170110224610119.jpg.chip.jpg\n",
      "./UTKFace/9_0_0_20170110224611885.jpg.chip.jpg\n",
      "./UTKFace/9_0_0_20170110224627443.jpg.chip.jpg\n",
      "./UTKFace/9_0_0_20170110224736067.jpg.chip.jpg\n",
      "./UTKFace/9_0_0_20170110224737016.jpg.chip.jpg\n",
      "./UTKFace/9_0_0_20170110224738342.jpg.chip.jpg\n",
      "./UTKFace/9_0_0_20170110224747751.jpg.chip.jpg\n",
      "./UTKFace/9_0_0_20170110224819698.jpg.chip.jpg\n",
      "./UTKFace/9_0_0_20170110224835799.jpg.chip.jpg\n",
      "./UTKFace/9_0_0_20170110224837718.jpg.chip.jpg\n",
      "./UTKFace/9_0_0_20170110224838965.jpg.chip.jpg\n",
      "./UTKFace/9_0_0_20170110225018913.jpg.chip.jpg\n",
      "./UTKFace/9_0_0_20170110225030430.jpg.chip.jpg\n",
      "./UTKFace/9_0_0_20170110225101384.jpg.chip.jpg\n",
      "./UTKFace/9_0_0_20170110225111291.jpg.chip.jpg\n",
      "./UTKFace/9_0_0_20170110225112927.jpg.chip.jpg\n",
      "./UTKFace/9_0_0_20170110225142725.jpg.chip.jpg\n",
      "./UTKFace/9_0_0_20170110225209168.jpg.chip.jpg\n",
      "./UTKFace/9_0_0_20170110225229812.jpg.chip.jpg\n",
      "./UTKFace/9_0_0_20170110225249086.jpg.chip.jpg\n",
      "./UTKFace/9_0_0_20170110225318820.jpg.chip.jpg\n",
      "./UTKFace/9_0_0_20170110225341709.jpg.chip.jpg\n",
      "./UTKFace/9_0_0_20170110225344511.jpg.chip.jpg\n",
      "./UTKFace/9_0_0_20170110225359875.jpg.chip.jpg\n",
      "./UTKFace/9_0_0_20170110225407300.jpg.chip.jpg\n",
      "./UTKFace/9_0_0_20170110225419379.jpg.chip.jpg\n",
      "./UTKFace/9_0_0_20170110225508509.jpg.chip.jpg\n",
      "./UTKFace/9_0_0_20170110225510191.jpg.chip.jpg\n",
      "./UTKFace/9_0_0_20170110225520159.jpg.chip.jpg\n",
      "./UTKFace/9_0_0_20170110225608402.jpg.chip.jpg\n",
      "./UTKFace/9_0_0_20170110225609333.jpg.chip.jpg\n",
      "./UTKFace/9_0_0_20170120133313910.jpg.chip.jpg\n",
      "./UTKFace/9_0_0_20170120133317677.jpg.chip.jpg\n",
      "./UTKFace/9_0_1_20170110215449668.jpg.chip.jpg\n",
      "./UTKFace/9_0_1_20170110215500987.jpg.chip.jpg\n",
      "./UTKFace/9_0_1_20170110220431778.jpg.chip.jpg\n",
      "./UTKFace/9_0_1_20170110220605937.jpg.chip.jpg\n",
      "./UTKFace/9_0_1_20170110223920908.jpg.chip.jpg\n",
      "./UTKFace/9_0_1_20170110224349623.jpg.chip.jpg\n",
      "./UTKFace/9_0_1_20170110225103801.jpg.chip.jpg\n",
      "./UTKFace/9_0_1_20170110225612237.jpg.chip.jpg\n",
      "./UTKFace/9_0_1_20170113175830459.jpg.chip.jpg\n",
      "./UTKFace/9_0_1_20170117195501575.jpg.chip.jpg\n",
      "./UTKFace/9_0_2_20161219192439379.jpg.chip.jpg\n",
      "./UTKFace/9_0_2_20161219192701323.jpg.chip.jpg\n",
      "./UTKFace/9_0_2_20161219193430531.jpg.chip.jpg\n",
      "./UTKFace/9_0_2_20170110215503716.jpg.chip.jpg\n",
      "./UTKFace/9_0_2_20170110215518068.jpg.chip.jpg\n",
      "./UTKFace/9_0_2_20170110220429818.jpg.chip.jpg\n",
      "./UTKFace/9_0_2_20170110224555634.jpg.chip.jpg\n",
      "./UTKFace/9_0_2_20170110224822473.jpg.chip.jpg\n",
      "./UTKFace/9_0_2_20170110225353988.jpg.chip.jpg\n",
      "./UTKFace/9_0_3_20170104225726769.jpg.chip.jpg\n",
      "./UTKFace/9_0_4_20170110215354740.jpg.chip.jpg\n",
      "./UTKFace/9_0_4_20170110225238472.jpg.chip.jpg\n",
      "./UTKFace/9_1_0_20170103212649164.jpg.chip.jpg\n",
      "./UTKFace/9_1_0_20170104013159819.jpg.chip.jpg\n",
      "./UTKFace/9_1_0_20170105000600802.jpg.chip.jpg\n",
      "./UTKFace/9_1_0_20170109200846880.jpg.chip.jpg\n",
      "./UTKFace/9_1_0_20170109202228755.jpg.chip.jpg\n",
      "./UTKFace/9_1_0_20170109202813775.jpg.chip.jpg\n",
      "./UTKFace/9_1_0_20170109202824646.jpg.chip.jpg\n",
      "./UTKFace/9_1_0_20170109203259973.jpg.chip.jpg\n",
      "./UTKFace/9_1_0_20170109203410981.jpg.chip.jpg\n",
      "./UTKFace/9_1_0_20170109204249427.jpg.chip.jpg\n",
      "./UTKFace/9_1_0_20170109204449076.jpg.chip.jpg\n",
      "./UTKFace/9_1_0_20170109204512608.jpg.chip.jpg\n",
      "./UTKFace/9_1_0_20170109204626343.jpg.chip.jpg\n",
      "./UTKFace/9_1_0_20170109204754719.jpg.chip.jpg\n",
      "./UTKFace/9_1_0_20170110224621441.jpg.chip.jpg\n",
      "./UTKFace/9_1_0_20170117172655681.jpg.chip.jpg\n",
      "./UTKFace/9_1_0_20170117180006484.jpg.chip.jpg\n",
      "./UTKFace/9_1_1_20170109201837354.jpg.chip.jpg\n",
      "./UTKFace/9_1_1_20170117105556810.jpg.chip.jpg\n",
      "./UTKFace/9_1_2_20161219190524395.jpg.chip.jpg\n",
      "./UTKFace/9_1_2_20161219192342173.jpg.chip.jpg\n",
      "./UTKFace/9_1_2_20161219204347420.jpg.chip.jpg\n",
      "./UTKFace/9_1_2_20170102235115156.jpg.chip.jpg\n",
      "./UTKFace/9_1_2_20170104020210475.jpg.chip.jpg\n",
      "./UTKFace/9_1_3_20161219225144784.jpg.chip.jpg\n",
      "./UTKFace/9_1_3_20161220222856346.jpg.chip.jpg\n",
      "./UTKFace/9_1_3_20170104222949455.jpg.chip.jpg\n",
      "./UTKFace/9_1_4_20170103200637399.jpg.chip.jpg\n",
      "./UTKFace/9_1_4_20170103200814791.jpg.chip.jpg\n",
      "./UTKFace/9_1_4_20170103213057382.jpg.chip.jpg\n"
     ]
    }
   ],
   "source": [
    "from cv2 import cv2\n",
    "ages=[]\n",
    "genders=[]\n",
    "images=[]\n",
    "\n",
    "for fle in files:\n",
    "    age = int(fle.split('_')[0])\n",
    "    gender=int(fle.split('_')[1])\n",
    "    total =fldr+'/'+fle\n",
    "    print(total)\n",
    "    image=cv2.imread(total)\n",
    "\n",
    "    image=cv2.cvtColor(image,cv2.COLOR_BGR2RGB)\n",
    "    image=cv2.resize(image,(48,48))\n",
    "    images.append(image)\n",
    "\n"
   ]
  },
  {
   "source": [
    "create list of age and gender from the dataset"
   ],
   "cell_type": "markdown",
   "metadata": {}
  },
  {
   "cell_type": "code",
   "execution_count": 21,
   "metadata": {},
   "outputs": [],
   "source": [
    "for fle in files:\n",
    "    age=int(fle.split('_')[0])\n",
    "    gender=int(fle.split('_')[1])\n",
    "    ages.append(age)\n",
    "    genders.append(gender)"
   ]
  },
  {
   "source": [
    "viewing a sample"
   ],
   "cell_type": "markdown",
   "metadata": {}
  },
  {
   "cell_type": "code",
   "execution_count": 22,
   "metadata": {},
   "outputs": [
    {
     "output_type": "execute_result",
     "data": {
      "text/plain": [
       "<matplotlib.image.AxesImage at 0x25aad9eab80>"
      ]
     },
     "metadata": {},
     "execution_count": 22
    },
    {
     "output_type": "display_data",
     "data": {
      "text/plain": "<Figure size 432x288 with 1 Axes>",
      "image/svg+xml": "<?xml version=\"1.0\" encoding=\"utf-8\" standalone=\"no\"?>\r\n<!DOCTYPE svg PUBLIC \"-//W3C//DTD SVG 1.1//EN\"\r\n  \"http://www.w3.org/Graphics/SVG/1.1/DTD/svg11.dtd\">\r\n<svg height=\"250.052344pt\" version=\"1.1\" viewBox=\"0 0 251.565 250.052344\" width=\"251.565pt\" xmlns=\"http://www.w3.org/2000/svg\" xmlns:xlink=\"http://www.w3.org/1999/xlink\">\r\n <metadata>\r\n  <rdf:RDF xmlns:cc=\"http://creativecommons.org/ns#\" xmlns:dc=\"http://purl.org/dc/elements/1.1/\" xmlns:rdf=\"http://www.w3.org/1999/02/22-rdf-syntax-ns#\">\r\n   <cc:Work>\r\n    <dc:type rdf:resource=\"http://purl.org/dc/dcmitype/StillImage\"/>\r\n    <dc:date>2021-05-25T12:38:55.049424</dc:date>\r\n    <dc:format>image/svg+xml</dc:format>\r\n    <dc:creator>\r\n     <cc:Agent>\r\n      <dc:title>Matplotlib v3.4.2, https://matplotlib.org/</dc:title>\r\n     </cc:Agent>\r\n    </dc:creator>\r\n   </cc:Work>\r\n  </rdf:RDF>\r\n </metadata>\r\n <defs>\r\n  <style type=\"text/css\">*{stroke-linecap:butt;stroke-linejoin:round;}</style>\r\n </defs>\r\n <g id=\"figure_1\">\r\n  <g id=\"patch_1\">\r\n   <path d=\"M 0 250.052344 \r\nL 251.565 250.052344 \r\nL 251.565 0 \r\nL 0 0 \r\nz\r\n\" style=\"fill:none;\"/>\r\n  </g>\r\n  <g id=\"axes_1\">\r\n   <g id=\"patch_2\">\r\n    <path d=\"M 26.925 226.174219 \r\nL 244.365 226.174219 \r\nL 244.365 8.734219 \r\nL 26.925 8.734219 \r\nz\r\n\" style=\"fill:#ffffff;\"/>\r\n   </g>\r\n   <g clip-path=\"url(#p45848c52f0)\">\r\n    <image height=\"218\" id=\"imagecb1740169f\" transform=\"scale(1 -1)translate(0 -218)\" width=\"218\" x=\"26.925\" xlink:href=\"data:image/png;base64,\r\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\" y=\"-8.174219\"/>\r\n   </g>\r\n   <g id=\"matplotlib.axis_1\">\r\n    <g id=\"xtick_1\">\r\n     <g id=\"line2d_1\">\r\n      <defs>\r\n       <path d=\"M 0 0 \r\nL 0 3.5 \r\n\" id=\"mfdc6dbd9c3\" style=\"stroke:#000000;stroke-width:0.8;\"/>\r\n      </defs>\r\n      <g>\r\n       <use style=\"stroke:#000000;stroke-width:0.8;\" x=\"29.19\" xlink:href=\"#mfdc6dbd9c3\" y=\"226.174219\"/>\r\n      </g>\r\n     </g>\r\n     <g id=\"text_1\">\r\n      <!-- 0 -->\r\n      <g transform=\"translate(26.00875 240.772656)scale(0.1 -0.1)\">\r\n       <defs>\r\n        <path d=\"M 2034 4250 \r\nQ 1547 4250 1301 3770 \r\nQ 1056 3291 1056 2328 \r\nQ 1056 1369 1301 889 \r\nQ 1547 409 2034 409 \r\nQ 2525 409 2770 889 \r\nQ 3016 1369 3016 2328 \r\nQ 3016 3291 2770 3770 \r\nQ 2525 4250 2034 4250 \r\nz\r\nM 2034 4750 \r\nQ 2819 4750 3233 4129 \r\nQ 3647 3509 3647 2328 \r\nQ 3647 1150 3233 529 \r\nQ 2819 -91 2034 -91 \r\nQ 1250 -91 836 529 \r\nQ 422 1150 422 2328 \r\nQ 422 3509 836 4129 \r\nQ 1250 4750 2034 4750 \r\nz\r\n\" id=\"DejaVuSans-30\" transform=\"scale(0.015625)\"/>\r\n       </defs>\r\n       <use xlink:href=\"#DejaVuSans-30\"/>\r\n      </g>\r\n     </g>\r\n    </g>\r\n    <g id=\"xtick_2\">\r\n     <g id=\"line2d_2\">\r\n      <g>\r\n       <use style=\"stroke:#000000;stroke-width:0.8;\" x=\"74.49\" xlink:href=\"#mfdc6dbd9c3\" y=\"226.174219\"/>\r\n      </g>\r\n     </g>\r\n     <g id=\"text_2\">\r\n      <!-- 10 -->\r\n      <g transform=\"translate(68.1275 240.772656)scale(0.1 -0.1)\">\r\n       <defs>\r\n        <path d=\"M 794 531 \r\nL 1825 531 \r\nL 1825 4091 \r\nL 703 3866 \r\nL 703 4441 \r\nL 1819 4666 \r\nL 2450 4666 \r\nL 2450 531 \r\nL 3481 531 \r\nL 3481 0 \r\nL 794 0 \r\nL 794 531 \r\nz\r\n\" id=\"DejaVuSans-31\" transform=\"scale(0.015625)\"/>\r\n       </defs>\r\n       <use xlink:href=\"#DejaVuSans-31\"/>\r\n       <use x=\"63.623047\" xlink:href=\"#DejaVuSans-30\"/>\r\n      </g>\r\n     </g>\r\n    </g>\r\n    <g id=\"xtick_3\">\r\n     <g id=\"line2d_3\">\r\n      <g>\r\n       <use style=\"stroke:#000000;stroke-width:0.8;\" x=\"119.79\" xlink:href=\"#mfdc6dbd9c3\" y=\"226.174219\"/>\r\n      </g>\r\n     </g>\r\n     <g id=\"text_3\">\r\n      <!-- 20 -->\r\n      <g transform=\"translate(113.4275 240.772656)scale(0.1 -0.1)\">\r\n       <defs>\r\n        <path d=\"M 1228 531 \r\nL 3431 531 \r\nL 3431 0 \r\nL 469 0 \r\nL 469 531 \r\nQ 828 903 1448 1529 \r\nQ 2069 2156 2228 2338 \r\nQ 2531 2678 2651 2914 \r\nQ 2772 3150 2772 3378 \r\nQ 2772 3750 2511 3984 \r\nQ 2250 4219 1831 4219 \r\nQ 1534 4219 1204 4116 \r\nQ 875 4013 500 3803 \r\nL 500 4441 \r\nQ 881 4594 1212 4672 \r\nQ 1544 4750 1819 4750 \r\nQ 2544 4750 2975 4387 \r\nQ 3406 4025 3406 3419 \r\nQ 3406 3131 3298 2873 \r\nQ 3191 2616 2906 2266 \r\nQ 2828 2175 2409 1742 \r\nQ 1991 1309 1228 531 \r\nz\r\n\" id=\"DejaVuSans-32\" transform=\"scale(0.015625)\"/>\r\n       </defs>\r\n       <use xlink:href=\"#DejaVuSans-32\"/>\r\n       <use x=\"63.623047\" xlink:href=\"#DejaVuSans-30\"/>\r\n      </g>\r\n     </g>\r\n    </g>\r\n    <g id=\"xtick_4\">\r\n     <g id=\"line2d_4\">\r\n      <g>\r\n       <use style=\"stroke:#000000;stroke-width:0.8;\" x=\"165.09\" xlink:href=\"#mfdc6dbd9c3\" y=\"226.174219\"/>\r\n      </g>\r\n     </g>\r\n     <g id=\"text_4\">\r\n      <!-- 30 -->\r\n      <g transform=\"translate(158.7275 240.772656)scale(0.1 -0.1)\">\r\n       <defs>\r\n        <path d=\"M 2597 2516 \r\nQ 3050 2419 3304 2112 \r\nQ 3559 1806 3559 1356 \r\nQ 3559 666 3084 287 \r\nQ 2609 -91 1734 -91 \r\nQ 1441 -91 1130 -33 \r\nQ 819 25 488 141 \r\nL 488 750 \r\nQ 750 597 1062 519 \r\nQ 1375 441 1716 441 \r\nQ 2309 441 2620 675 \r\nQ 2931 909 2931 1356 \r\nQ 2931 1769 2642 2001 \r\nQ 2353 2234 1838 2234 \r\nL 1294 2234 \r\nL 1294 2753 \r\nL 1863 2753 \r\nQ 2328 2753 2575 2939 \r\nQ 2822 3125 2822 3475 \r\nQ 2822 3834 2567 4026 \r\nQ 2313 4219 1838 4219 \r\nQ 1578 4219 1281 4162 \r\nQ 984 4106 628 3988 \r\nL 628 4550 \r\nQ 988 4650 1302 4700 \r\nQ 1616 4750 1894 4750 \r\nQ 2613 4750 3031 4423 \r\nQ 3450 4097 3450 3541 \r\nQ 3450 3153 3228 2886 \r\nQ 3006 2619 2597 2516 \r\nz\r\n\" id=\"DejaVuSans-33\" transform=\"scale(0.015625)\"/>\r\n       </defs>\r\n       <use xlink:href=\"#DejaVuSans-33\"/>\r\n       <use x=\"63.623047\" xlink:href=\"#DejaVuSans-30\"/>\r\n      </g>\r\n     </g>\r\n    </g>\r\n    <g id=\"xtick_5\">\r\n     <g id=\"line2d_5\">\r\n      <g>\r\n       <use style=\"stroke:#000000;stroke-width:0.8;\" x=\"210.39\" xlink:href=\"#mfdc6dbd9c3\" y=\"226.174219\"/>\r\n      </g>\r\n     </g>\r\n     <g id=\"text_5\">\r\n      <!-- 40 -->\r\n      <g transform=\"translate(204.0275 240.772656)scale(0.1 -0.1)\">\r\n       <defs>\r\n        <path d=\"M 2419 4116 \r\nL 825 1625 \r\nL 2419 1625 \r\nL 2419 4116 \r\nz\r\nM 2253 4666 \r\nL 3047 4666 \r\nL 3047 1625 \r\nL 3713 1625 \r\nL 3713 1100 \r\nL 3047 1100 \r\nL 3047 0 \r\nL 2419 0 \r\nL 2419 1100 \r\nL 313 1100 \r\nL 313 1709 \r\nL 2253 4666 \r\nz\r\n\" id=\"DejaVuSans-34\" transform=\"scale(0.015625)\"/>\r\n       </defs>\r\n       <use xlink:href=\"#DejaVuSans-34\"/>\r\n       <use x=\"63.623047\" xlink:href=\"#DejaVuSans-30\"/>\r\n      </g>\r\n     </g>\r\n    </g>\r\n   </g>\r\n   <g id=\"matplotlib.axis_2\">\r\n    <g id=\"ytick_1\">\r\n     <g id=\"line2d_6\">\r\n      <defs>\r\n       <path d=\"M 0 0 \r\nL -3.5 0 \r\n\" id=\"m30a2e4331c\" style=\"stroke:#000000;stroke-width:0.8;\"/>\r\n      </defs>\r\n      <g>\r\n       <use style=\"stroke:#000000;stroke-width:0.8;\" x=\"26.925\" xlink:href=\"#m30a2e4331c\" y=\"10.999219\"/>\r\n      </g>\r\n     </g>\r\n     <g id=\"text_6\">\r\n      <!-- 0 -->\r\n      <g transform=\"translate(13.5625 14.798437)scale(0.1 -0.1)\">\r\n       <use xlink:href=\"#DejaVuSans-30\"/>\r\n      </g>\r\n     </g>\r\n    </g>\r\n    <g id=\"ytick_2\">\r\n     <g id=\"line2d_7\">\r\n      <g>\r\n       <use style=\"stroke:#000000;stroke-width:0.8;\" x=\"26.925\" xlink:href=\"#m30a2e4331c\" y=\"56.299219\"/>\r\n      </g>\r\n     </g>\r\n     <g id=\"text_7\">\r\n      <!-- 10 -->\r\n      <g transform=\"translate(7.2 60.098437)scale(0.1 -0.1)\">\r\n       <use xlink:href=\"#DejaVuSans-31\"/>\r\n       <use x=\"63.623047\" xlink:href=\"#DejaVuSans-30\"/>\r\n      </g>\r\n     </g>\r\n    </g>\r\n    <g id=\"ytick_3\">\r\n     <g id=\"line2d_8\">\r\n      <g>\r\n       <use style=\"stroke:#000000;stroke-width:0.8;\" x=\"26.925\" xlink:href=\"#m30a2e4331c\" y=\"101.599219\"/>\r\n      </g>\r\n     </g>\r\n     <g id=\"text_8\">\r\n      <!-- 20 -->\r\n      <g transform=\"translate(7.2 105.398437)scale(0.1 -0.1)\">\r\n       <use xlink:href=\"#DejaVuSans-32\"/>\r\n       <use x=\"63.623047\" xlink:href=\"#DejaVuSans-30\"/>\r\n      </g>\r\n     </g>\r\n    </g>\r\n    <g id=\"ytick_4\">\r\n     <g id=\"line2d_9\">\r\n      <g>\r\n       <use style=\"stroke:#000000;stroke-width:0.8;\" x=\"26.925\" xlink:href=\"#m30a2e4331c\" y=\"146.899219\"/>\r\n      </g>\r\n     </g>\r\n     <g id=\"text_9\">\r\n      <!-- 30 -->\r\n      <g transform=\"translate(7.2 150.698437)scale(0.1 -0.1)\">\r\n       <use xlink:href=\"#DejaVuSans-33\"/>\r\n       <use x=\"63.623047\" xlink:href=\"#DejaVuSans-30\"/>\r\n      </g>\r\n     </g>\r\n    </g>\r\n    <g id=\"ytick_5\">\r\n     <g id=\"line2d_10\">\r\n      <g>\r\n       <use style=\"stroke:#000000;stroke-width:0.8;\" x=\"26.925\" xlink:href=\"#m30a2e4331c\" y=\"192.199219\"/>\r\n      </g>\r\n     </g>\r\n     <g id=\"text_10\">\r\n      <!-- 40 -->\r\n      <g transform=\"translate(7.2 195.998437)scale(0.1 -0.1)\">\r\n       <use xlink:href=\"#DejaVuSans-34\"/>\r\n       <use x=\"63.623047\" xlink:href=\"#DejaVuSans-30\"/>\r\n      </g>\r\n     </g>\r\n    </g>\r\n   </g>\r\n   <g id=\"patch_3\">\r\n    <path d=\"M 26.925 226.174219 \r\nL 26.925 8.734219 \r\n\" style=\"fill:none;stroke:#000000;stroke-linecap:square;stroke-linejoin:miter;stroke-width:0.8;\"/>\r\n   </g>\r\n   <g id=\"patch_4\">\r\n    <path d=\"M 244.365 226.174219 \r\nL 244.365 8.734219 \r\n\" style=\"fill:none;stroke:#000000;stroke-linecap:square;stroke-linejoin:miter;stroke-width:0.8;\"/>\r\n   </g>\r\n   <g id=\"patch_5\">\r\n    <path d=\"M 26.925 226.174219 \r\nL 244.365 226.174219 \r\n\" style=\"fill:none;stroke:#000000;stroke-linecap:square;stroke-linejoin:miter;stroke-width:0.8;\"/>\r\n   </g>\r\n   <g id=\"patch_6\">\r\n    <path d=\"M 26.925 8.734219 \r\nL 244.365 8.734219 \r\n\" style=\"fill:none;stroke:#000000;stroke-linecap:square;stroke-linejoin:miter;stroke-width:0.8;\"/>\r\n   </g>\r\n  </g>\r\n </g>\r\n <defs>\r\n  <clipPath id=\"p45848c52f0\">\r\n   <rect height=\"217.44\" width=\"217.44\" x=\"26.925\" y=\"8.734219\"/>\r\n  </clipPath>\r\n </defs>\r\n</svg>\r\n",
      "image/png": "[encoded data removed]"
     },
     "metadata": {
      "needs_background": "light"
     }
    }
   ],
   "source": [
    "plt.imshow(images[87])"
   ]
  },
  {
   "cell_type": "code",
   "execution_count": 23,
   "metadata": {},
   "outputs": [
    {
     "output_type": "stream",
     "name": "stdout",
     "text": [
      "10\n"
     ]
    }
   ],
   "source": [
    "print(ages[87])"
   ]
  },
  {
   "cell_type": "code",
   "execution_count": 24,
   "metadata": {},
   "outputs": [
    {
     "output_type": "stream",
     "name": "stdout",
     "text": [
      "0\n"
     ]
    }
   ],
   "source": [
    "print(genders[87])"
   ]
  },
  {
   "source": [
    "#numpy arrays of age and gender"
   ],
   "cell_type": "markdown",
   "metadata": {}
  },
  {
   "cell_type": "code",
   "execution_count": 25,
   "metadata": {},
   "outputs": [],
   "source": [
    "images_f=np.array(images)\n",
    "ages_f=np.array(ages)\n",
    "genders_f=np.array(genders)"
   ]
  },
  {
   "source": [
    "saving images array and genders array in the system"
   ],
   "cell_type": "markdown",
   "metadata": {}
  },
  {
   "cell_type": "code",
   "execution_count": 26,
   "metadata": {},
   "outputs": [],
   "source": [
    "np.save(fldr+'image.npy',images_f)\n",
    "np.save(fldr+'ages.npy',ages_f)\n",
    "np.save(fldr+'genders.npy',genders_f)"
   ]
  },
  {
   "source": [
    "finding the number of elements in dataset, males and females respectively"
   ],
   "cell_type": "markdown",
   "metadata": {}
  },
  {
   "cell_type": "code",
   "execution_count": 27,
   "metadata": {},
   "outputs": [
    {
     "output_type": "stream",
     "name": "stdout",
     "text": [
      "[12391 11317]\n"
     ]
    }
   ],
   "source": [
    "values, counts=np.unique(genders_f,return_counts=True)\n",
    "print(counts)"
   ]
  },
  {
   "source": [
    "plotting the number of male and female samples"
   ],
   "cell_type": "markdown",
   "metadata": {}
  },
  {
   "cell_type": "code",
   "execution_count": 28,
   "metadata": {},
   "outputs": [
    {
     "output_type": "display_data",
     "data": {
      "text/plain": "<Figure size 432x288 with 1 Axes>",
      "image/svg+xml": "<?xml version=\"1.0\" encoding=\"utf-8\" standalone=\"no\"?>\r\n<!DOCTYPE svg PUBLIC \"-//W3C//DTD SVG 1.1//EN\"\r\n  \"http://www.w3.org/Graphics/SVG/1.1/DTD/svg11.dtd\">\r\n<svg height=\"319.078125pt\" version=\"1.1\" viewBox=\"0 0 485.2125 319.078125\" width=\"485.2125pt\" xmlns=\"http://www.w3.org/2000/svg\" xmlns:xlink=\"http://www.w3.org/1999/xlink\">\r\n <metadata>\r\n  <rdf:RDF xmlns:cc=\"http://creativecommons.org/ns#\" xmlns:dc=\"http://purl.org/dc/elements/1.1/\" xmlns:rdf=\"http://www.w3.org/1999/02/22-rdf-syntax-ns#\">\r\n   <cc:Work>\r\n    <dc:type rdf:resource=\"http://purl.org/dc/dcmitype/StillImage\"/>\r\n    <dc:date>2021-05-25T12:39:02.994925</dc:date>\r\n    <dc:format>image/svg+xml</dc:format>\r\n    <dc:creator>\r\n     <cc:Agent>\r\n      <dc:title>Matplotlib v3.4.2, https://matplotlib.org/</dc:title>\r\n     </cc:Agent>\r\n    </dc:creator>\r\n   </cc:Work>\r\n  </rdf:RDF>\r\n </metadata>\r\n <defs>\r\n  <style type=\"text/css\">*{stroke-linecap:butt;stroke-linejoin:round;}</style>\r\n </defs>\r\n <g id=\"figure_1\">\r\n  <g id=\"patch_1\">\r\n   <path d=\"M 0 319.078125 \r\nL 485.2125 319.078125 \r\nL 485.2125 0 \r\nL 0 0 \r\nz\r\n\" style=\"fill:none;\"/>\r\n  </g>\r\n  <g id=\"axes_1\">\r\n   <g id=\"patch_2\">\r\n    <path d=\"M 46.0125 295.2 \r\nL 478.0125 295.2 \r\nL 478.0125 7.2 \r\nL 46.0125 7.2 \r\nz\r\n\" style=\"fill:#ffffff;\"/>\r\n   </g>\r\n   <g id=\"patch_3\">\r\n    <path clip-path=\"url(#p898885bbea)\" d=\"M 65.648864 295.2 \r\nL 240.194318 295.2 \r\nL 240.194318 20.914286 \r\nL 65.648864 20.914286 \r\nz\r\n\" style=\"fill:#1f77b4;\"/>\r\n   </g>\r\n   <g id=\"patch_4\">\r\n    <path clip-path=\"url(#p898885bbea)\" d=\"M 283.830682 295.2 \r\nL 458.376136 295.2 \r\nL 458.376136 44.688223 \r\nL 283.830682 44.688223 \r\nz\r\n\" style=\"fill:#1f77b4;\"/>\r\n   </g>\r\n   <g id=\"matplotlib.axis_1\">\r\n    <g id=\"xtick_1\">\r\n     <g id=\"line2d_1\">\r\n      <defs>\r\n       <path d=\"M 0 0 \r\nL 0 3.5 \r\n\" id=\"mff2ca0f7a9\" style=\"stroke:#000000;stroke-width:0.8;\"/>\r\n      </defs>\r\n      <g>\r\n       <use style=\"stroke:#000000;stroke-width:0.8;\" x=\"152.921591\" xlink:href=\"#mff2ca0f7a9\" y=\"295.2\"/>\r\n      </g>\r\n     </g>\r\n     <g id=\"text_1\">\r\n      <!-- Male -->\r\n      <g transform=\"translate(141.077841 309.798438)scale(0.1 -0.1)\">\r\n       <defs>\r\n        <path d=\"M 628 4666 \r\nL 1569 4666 \r\nL 2759 1491 \r\nL 3956 4666 \r\nL 4897 4666 \r\nL 4897 0 \r\nL 4281 0 \r\nL 4281 4097 \r\nL 3078 897 \r\nL 2444 897 \r\nL 1241 4097 \r\nL 1241 0 \r\nL 628 0 \r\nL 628 4666 \r\nz\r\n\" id=\"DejaVuSans-4d\" transform=\"scale(0.015625)\"/>\r\n        <path d=\"M 2194 1759 \r\nQ 1497 1759 1228 1600 \r\nQ 959 1441 959 1056 \r\nQ 959 750 1161 570 \r\nQ 1363 391 1709 391 \r\nQ 2188 391 2477 730 \r\nQ 2766 1069 2766 1631 \r\nL 2766 1759 \r\nL 2194 1759 \r\nz\r\nM 3341 1997 \r\nL 3341 0 \r\nL 2766 0 \r\nL 2766 531 \r\nQ 2569 213 2275 61 \r\nQ 1981 -91 1556 -91 \r\nQ 1019 -91 701 211 \r\nQ 384 513 384 1019 \r\nQ 384 1609 779 1909 \r\nQ 1175 2209 1959 2209 \r\nL 2766 2209 \r\nL 2766 2266 \r\nQ 2766 2663 2505 2880 \r\nQ 2244 3097 1772 3097 \r\nQ 1472 3097 1187 3025 \r\nQ 903 2953 641 2809 \r\nL 641 3341 \r\nQ 956 3463 1253 3523 \r\nQ 1550 3584 1831 3584 \r\nQ 2591 3584 2966 3190 \r\nQ 3341 2797 3341 1997 \r\nz\r\n\" id=\"DejaVuSans-61\" transform=\"scale(0.015625)\"/>\r\n        <path d=\"M 603 4863 \r\nL 1178 4863 \r\nL 1178 0 \r\nL 603 0 \r\nL 603 4863 \r\nz\r\n\" id=\"DejaVuSans-6c\" transform=\"scale(0.015625)\"/>\r\n        <path d=\"M 3597 1894 \r\nL 3597 1613 \r\nL 953 1613 \r\nQ 991 1019 1311 708 \r\nQ 1631 397 2203 397 \r\nQ 2534 397 2845 478 \r\nQ 3156 559 3463 722 \r\nL 3463 178 \r\nQ 3153 47 2828 -22 \r\nQ 2503 -91 2169 -91 \r\nQ 1331 -91 842 396 \r\nQ 353 884 353 1716 \r\nQ 353 2575 817 3079 \r\nQ 1281 3584 2069 3584 \r\nQ 2775 3584 3186 3129 \r\nQ 3597 2675 3597 1894 \r\nz\r\nM 3022 2063 \r\nQ 3016 2534 2758 2815 \r\nQ 2500 3097 2075 3097 \r\nQ 1594 3097 1305 2825 \r\nQ 1016 2553 972 2059 \r\nL 3022 2063 \r\nz\r\n\" id=\"DejaVuSans-65\" transform=\"scale(0.015625)\"/>\r\n       </defs>\r\n       <use xlink:href=\"#DejaVuSans-4d\"/>\r\n       <use x=\"86.279297\" xlink:href=\"#DejaVuSans-61\"/>\r\n       <use x=\"147.558594\" xlink:href=\"#DejaVuSans-6c\"/>\r\n       <use x=\"175.341797\" xlink:href=\"#DejaVuSans-65\"/>\r\n      </g>\r\n     </g>\r\n    </g>\r\n    <g id=\"xtick_2\">\r\n     <g id=\"line2d_2\">\r\n      <g>\r\n       <use style=\"stroke:#000000;stroke-width:0.8;\" x=\"371.103409\" xlink:href=\"#mff2ca0f7a9\" y=\"295.2\"/>\r\n      </g>\r\n     </g>\r\n     <g id=\"text_2\">\r\n      <!-- Female -->\r\n      <g transform=\"translate(353.026065 309.798438)scale(0.1 -0.1)\">\r\n       <defs>\r\n        <path d=\"M 628 4666 \r\nL 3309 4666 \r\nL 3309 4134 \r\nL 1259 4134 \r\nL 1259 2759 \r\nL 3109 2759 \r\nL 3109 2228 \r\nL 1259 2228 \r\nL 1259 0 \r\nL 628 0 \r\nL 628 4666 \r\nz\r\n\" id=\"DejaVuSans-46\" transform=\"scale(0.015625)\"/>\r\n        <path d=\"M 3328 2828 \r\nQ 3544 3216 3844 3400 \r\nQ 4144 3584 4550 3584 \r\nQ 5097 3584 5394 3201 \r\nQ 5691 2819 5691 2113 \r\nL 5691 0 \r\nL 5113 0 \r\nL 5113 2094 \r\nQ 5113 2597 4934 2840 \r\nQ 4756 3084 4391 3084 \r\nQ 3944 3084 3684 2787 \r\nQ 3425 2491 3425 1978 \r\nL 3425 0 \r\nL 2847 0 \r\nL 2847 2094 \r\nQ 2847 2600 2669 2842 \r\nQ 2491 3084 2119 3084 \r\nQ 1678 3084 1418 2786 \r\nQ 1159 2488 1159 1978 \r\nL 1159 0 \r\nL 581 0 \r\nL 581 3500 \r\nL 1159 3500 \r\nL 1159 2956 \r\nQ 1356 3278 1631 3431 \r\nQ 1906 3584 2284 3584 \r\nQ 2666 3584 2933 3390 \r\nQ 3200 3197 3328 2828 \r\nz\r\n\" id=\"DejaVuSans-6d\" transform=\"scale(0.015625)\"/>\r\n       </defs>\r\n       <use xlink:href=\"#DejaVuSans-46\"/>\r\n       <use x=\"52.019531\" xlink:href=\"#DejaVuSans-65\"/>\r\n       <use x=\"113.542969\" xlink:href=\"#DejaVuSans-6d\"/>\r\n       <use x=\"210.955078\" xlink:href=\"#DejaVuSans-61\"/>\r\n       <use x=\"272.234375\" xlink:href=\"#DejaVuSans-6c\"/>\r\n       <use x=\"300.017578\" xlink:href=\"#DejaVuSans-65\"/>\r\n      </g>\r\n     </g>\r\n    </g>\r\n   </g>\r\n   <g id=\"matplotlib.axis_2\">\r\n    <g id=\"ytick_1\">\r\n     <g id=\"line2d_3\">\r\n      <defs>\r\n       <path d=\"M 0 0 \r\nL -3.5 0 \r\n\" id=\"mdfbf11141b\" style=\"stroke:#000000;stroke-width:0.8;\"/>\r\n      </defs>\r\n      <g>\r\n       <use style=\"stroke:#000000;stroke-width:0.8;\" x=\"46.0125\" xlink:href=\"#mdfbf11141b\" y=\"295.2\"/>\r\n      </g>\r\n     </g>\r\n     <g id=\"text_3\">\r\n      <!-- 0 -->\r\n      <g transform=\"translate(32.65 298.999219)scale(0.1 -0.1)\">\r\n       <defs>\r\n        <path d=\"M 2034 4250 \r\nQ 1547 4250 1301 3770 \r\nQ 1056 3291 1056 2328 \r\nQ 1056 1369 1301 889 \r\nQ 1547 409 2034 409 \r\nQ 2525 409 2770 889 \r\nQ 3016 1369 3016 2328 \r\nQ 3016 3291 2770 3770 \r\nQ 2525 4250 2034 4250 \r\nz\r\nM 2034 4750 \r\nQ 2819 4750 3233 4129 \r\nQ 3647 3509 3647 2328 \r\nQ 3647 1150 3233 529 \r\nQ 2819 -91 2034 -91 \r\nQ 1250 -91 836 529 \r\nQ 422 1150 422 2328 \r\nQ 422 3509 836 4129 \r\nQ 1250 4750 2034 4750 \r\nz\r\n\" id=\"DejaVuSans-30\" transform=\"scale(0.015625)\"/>\r\n       </defs>\r\n       <use xlink:href=\"#DejaVuSans-30\"/>\r\n      </g>\r\n     </g>\r\n    </g>\r\n    <g id=\"ytick_2\">\r\n     <g id=\"line2d_4\">\r\n      <g>\r\n       <use style=\"stroke:#000000;stroke-width:0.8;\" x=\"46.0125\" xlink:href=\"#mdfbf11141b\" y=\"250.928236\"/>\r\n      </g>\r\n     </g>\r\n     <g id=\"text_4\">\r\n      <!-- 2000 -->\r\n      <g transform=\"translate(13.5625 254.727455)scale(0.1 -0.1)\">\r\n       <defs>\r\n        <path d=\"M 1228 531 \r\nL 3431 531 \r\nL 3431 0 \r\nL 469 0 \r\nL 469 531 \r\nQ 828 903 1448 1529 \r\nQ 2069 2156 2228 2338 \r\nQ 2531 2678 2651 2914 \r\nQ 2772 3150 2772 3378 \r\nQ 2772 3750 2511 3984 \r\nQ 2250 4219 1831 4219 \r\nQ 1534 4219 1204 4116 \r\nQ 875 4013 500 3803 \r\nL 500 4441 \r\nQ 881 4594 1212 4672 \r\nQ 1544 4750 1819 4750 \r\nQ 2544 4750 2975 4387 \r\nQ 3406 4025 3406 3419 \r\nQ 3406 3131 3298 2873 \r\nQ 3191 2616 2906 2266 \r\nQ 2828 2175 2409 1742 \r\nQ 1991 1309 1228 531 \r\nz\r\n\" id=\"DejaVuSans-32\" transform=\"scale(0.015625)\"/>\r\n       </defs>\r\n       <use xlink:href=\"#DejaVuSans-32\"/>\r\n       <use x=\"63.623047\" xlink:href=\"#DejaVuSans-30\"/>\r\n       <use x=\"127.246094\" xlink:href=\"#DejaVuSans-30\"/>\r\n       <use x=\"190.869141\" xlink:href=\"#DejaVuSans-30\"/>\r\n      </g>\r\n     </g>\r\n    </g>\r\n    <g id=\"ytick_3\">\r\n     <g id=\"line2d_5\">\r\n      <g>\r\n       <use style=\"stroke:#000000;stroke-width:0.8;\" x=\"46.0125\" xlink:href=\"#mdfbf11141b\" y=\"206.656472\"/>\r\n      </g>\r\n     </g>\r\n     <g id=\"text_5\">\r\n      <!-- 4000 -->\r\n      <g transform=\"translate(13.5625 210.455691)scale(0.1 -0.1)\">\r\n       <defs>\r\n        <path d=\"M 2419 4116 \r\nL 825 1625 \r\nL 2419 1625 \r\nL 2419 4116 \r\nz\r\nM 2253 4666 \r\nL 3047 4666 \r\nL 3047 1625 \r\nL 3713 1625 \r\nL 3713 1100 \r\nL 3047 1100 \r\nL 3047 0 \r\nL 2419 0 \r\nL 2419 1100 \r\nL 313 1100 \r\nL 313 1709 \r\nL 2253 4666 \r\nz\r\n\" id=\"DejaVuSans-34\" transform=\"scale(0.015625)\"/>\r\n       </defs>\r\n       <use xlink:href=\"#DejaVuSans-34\"/>\r\n       <use x=\"63.623047\" xlink:href=\"#DejaVuSans-30\"/>\r\n       <use x=\"127.246094\" xlink:href=\"#DejaVuSans-30\"/>\r\n       <use x=\"190.869141\" xlink:href=\"#DejaVuSans-30\"/>\r\n      </g>\r\n     </g>\r\n    </g>\r\n    <g id=\"ytick_4\">\r\n     <g id=\"line2d_6\">\r\n      <g>\r\n       <use style=\"stroke:#000000;stroke-width:0.8;\" x=\"46.0125\" xlink:href=\"#mdfbf11141b\" y=\"162.384708\"/>\r\n      </g>\r\n     </g>\r\n     <g id=\"text_6\">\r\n      <!-- 6000 -->\r\n      <g transform=\"translate(13.5625 166.183927)scale(0.1 -0.1)\">\r\n       <defs>\r\n        <path d=\"M 2113 2584 \r\nQ 1688 2584 1439 2293 \r\nQ 1191 2003 1191 1497 \r\nQ 1191 994 1439 701 \r\nQ 1688 409 2113 409 \r\nQ 2538 409 2786 701 \r\nQ 3034 994 3034 1497 \r\nQ 3034 2003 2786 2293 \r\nQ 2538 2584 2113 2584 \r\nz\r\nM 3366 4563 \r\nL 3366 3988 \r\nQ 3128 4100 2886 4159 \r\nQ 2644 4219 2406 4219 \r\nQ 1781 4219 1451 3797 \r\nQ 1122 3375 1075 2522 \r\nQ 1259 2794 1537 2939 \r\nQ 1816 3084 2150 3084 \r\nQ 2853 3084 3261 2657 \r\nQ 3669 2231 3669 1497 \r\nQ 3669 778 3244 343 \r\nQ 2819 -91 2113 -91 \r\nQ 1303 -91 875 529 \r\nQ 447 1150 447 2328 \r\nQ 447 3434 972 4092 \r\nQ 1497 4750 2381 4750 \r\nQ 2619 4750 2861 4703 \r\nQ 3103 4656 3366 4563 \r\nz\r\n\" id=\"DejaVuSans-36\" transform=\"scale(0.015625)\"/>\r\n       </defs>\r\n       <use xlink:href=\"#DejaVuSans-36\"/>\r\n       <use x=\"63.623047\" xlink:href=\"#DejaVuSans-30\"/>\r\n       <use x=\"127.246094\" xlink:href=\"#DejaVuSans-30\"/>\r\n       <use x=\"190.869141\" xlink:href=\"#DejaVuSans-30\"/>\r\n      </g>\r\n     </g>\r\n    </g>\r\n    <g id=\"ytick_5\">\r\n     <g id=\"line2d_7\">\r\n      <g>\r\n       <use style=\"stroke:#000000;stroke-width:0.8;\" x=\"46.0125\" xlink:href=\"#mdfbf11141b\" y=\"118.112944\"/>\r\n      </g>\r\n     </g>\r\n     <g id=\"text_7\">\r\n      <!-- 8000 -->\r\n      <g transform=\"translate(13.5625 121.912162)scale(0.1 -0.1)\">\r\n       <defs>\r\n        <path d=\"M 2034 2216 \r\nQ 1584 2216 1326 1975 \r\nQ 1069 1734 1069 1313 \r\nQ 1069 891 1326 650 \r\nQ 1584 409 2034 409 \r\nQ 2484 409 2743 651 \r\nQ 3003 894 3003 1313 \r\nQ 3003 1734 2745 1975 \r\nQ 2488 2216 2034 2216 \r\nz\r\nM 1403 2484 \r\nQ 997 2584 770 2862 \r\nQ 544 3141 544 3541 \r\nQ 544 4100 942 4425 \r\nQ 1341 4750 2034 4750 \r\nQ 2731 4750 3128 4425 \r\nQ 3525 4100 3525 3541 \r\nQ 3525 3141 3298 2862 \r\nQ 3072 2584 2669 2484 \r\nQ 3125 2378 3379 2068 \r\nQ 3634 1759 3634 1313 \r\nQ 3634 634 3220 271 \r\nQ 2806 -91 2034 -91 \r\nQ 1263 -91 848 271 \r\nQ 434 634 434 1313 \r\nQ 434 1759 690 2068 \r\nQ 947 2378 1403 2484 \r\nz\r\nM 1172 3481 \r\nQ 1172 3119 1398 2916 \r\nQ 1625 2713 2034 2713 \r\nQ 2441 2713 2670 2916 \r\nQ 2900 3119 2900 3481 \r\nQ 2900 3844 2670 4047 \r\nQ 2441 4250 2034 4250 \r\nQ 1625 4250 1398 4047 \r\nQ 1172 3844 1172 3481 \r\nz\r\n\" id=\"DejaVuSans-38\" transform=\"scale(0.015625)\"/>\r\n       </defs>\r\n       <use xlink:href=\"#DejaVuSans-38\"/>\r\n       <use x=\"63.623047\" xlink:href=\"#DejaVuSans-30\"/>\r\n       <use x=\"127.246094\" xlink:href=\"#DejaVuSans-30\"/>\r\n       <use x=\"190.869141\" xlink:href=\"#DejaVuSans-30\"/>\r\n      </g>\r\n     </g>\r\n    </g>\r\n    <g id=\"ytick_6\">\r\n     <g id=\"line2d_8\">\r\n      <g>\r\n       <use style=\"stroke:#000000;stroke-width:0.8;\" x=\"46.0125\" xlink:href=\"#mdfbf11141b\" y=\"73.84118\"/>\r\n      </g>\r\n     </g>\r\n     <g id=\"text_8\">\r\n      <!-- 10000 -->\r\n      <g transform=\"translate(7.2 77.640398)scale(0.1 -0.1)\">\r\n       <defs>\r\n        <path d=\"M 794 531 \r\nL 1825 531 \r\nL 1825 4091 \r\nL 703 3866 \r\nL 703 4441 \r\nL 1819 4666 \r\nL 2450 4666 \r\nL 2450 531 \r\nL 3481 531 \r\nL 3481 0 \r\nL 794 0 \r\nL 794 531 \r\nz\r\n\" id=\"DejaVuSans-31\" transform=\"scale(0.015625)\"/>\r\n       </defs>\r\n       <use xlink:href=\"#DejaVuSans-31\"/>\r\n       <use x=\"63.623047\" xlink:href=\"#DejaVuSans-30\"/>\r\n       <use x=\"127.246094\" xlink:href=\"#DejaVuSans-30\"/>\r\n       <use x=\"190.869141\" xlink:href=\"#DejaVuSans-30\"/>\r\n       <use x=\"254.492188\" xlink:href=\"#DejaVuSans-30\"/>\r\n      </g>\r\n     </g>\r\n    </g>\r\n    <g id=\"ytick_7\">\r\n     <g id=\"line2d_9\">\r\n      <g>\r\n       <use style=\"stroke:#000000;stroke-width:0.8;\" x=\"46.0125\" xlink:href=\"#mdfbf11141b\" y=\"29.569416\"/>\r\n      </g>\r\n     </g>\r\n     <g id=\"text_9\">\r\n      <!-- 12000 -->\r\n      <g transform=\"translate(7.2 33.368634)scale(0.1 -0.1)\">\r\n       <use xlink:href=\"#DejaVuSans-31\"/>\r\n       <use x=\"63.623047\" xlink:href=\"#DejaVuSans-32\"/>\r\n       <use x=\"127.246094\" xlink:href=\"#DejaVuSans-30\"/>\r\n       <use x=\"190.869141\" xlink:href=\"#DejaVuSans-30\"/>\r\n       <use x=\"254.492188\" xlink:href=\"#DejaVuSans-30\"/>\r\n      </g>\r\n     </g>\r\n    </g>\r\n   </g>\r\n   <g id=\"patch_5\">\r\n    <path d=\"M 46.0125 295.2 \r\nL 46.0125 7.2 \r\n\" style=\"fill:none;stroke:#000000;stroke-linecap:square;stroke-linejoin:miter;stroke-width:0.8;\"/>\r\n   </g>\r\n   <g id=\"patch_6\">\r\n    <path d=\"M 478.0125 295.2 \r\nL 478.0125 7.2 \r\n\" style=\"fill:none;stroke:#000000;stroke-linecap:square;stroke-linejoin:miter;stroke-width:0.8;\"/>\r\n   </g>\r\n   <g id=\"patch_7\">\r\n    <path d=\"M 46.0125 295.2 \r\nL 478.0125 295.2 \r\n\" style=\"fill:none;stroke:#000000;stroke-linecap:square;stroke-linejoin:miter;stroke-width:0.8;\"/>\r\n   </g>\r\n   <g id=\"patch_8\">\r\n    <path d=\"M 46.0125 7.2 \r\nL 478.0125 7.2 \r\n\" style=\"fill:none;stroke:#000000;stroke-linecap:square;stroke-linejoin:miter;stroke-width:0.8;\"/>\r\n   </g>\r\n  </g>\r\n </g>\r\n <defs>\r\n  <clipPath id=\"p898885bbea\">\r\n   <rect height=\"288\" width=\"432\" x=\"46.0125\" y=\"7.2\"/>\r\n  </clipPath>\r\n </defs>\r\n</svg>\r\n",
      "image/png": "[encoded data removed]"
     },
     "metadata": {
      "needs_background": "light"
     }
    }
   ],
   "source": [
    "fig=plt.figure()\n",
    "ax=fig.add_axes([0,0,1,1])\n",
    "gender=['Male','Female']\n",
    "values=[12391,11317]\n",
    "ax.bar(gender,values)\n",
    "plt.show()"
   ]
  },
  {
   "source": [
    "finding the number of samples in each age"
   ],
   "cell_type": "markdown",
   "metadata": {}
  },
  {
   "cell_type": "code",
   "execution_count": 29,
   "metadata": {},
   "outputs": [
    {
     "output_type": "stream",
     "name": "stdout",
     "text": [
      "[1123  482  289  273  196  131  139  263  166  156   65  130   81  157\n  177  247  158  262   98  284  346  395  426  859  734 2197  615  918\n  570  724  350  664  143  409  880  483  293  325  266  526  132  266\n  157  100  440  153  170  153  148  381  138  232  241  353  268  236\n   97  271   82  293  161  125  103   50  259   77   94  100   56  147\n   33   98   63   32  148   58   28   69   23  133   22   40   18   24\n  155   35   10   34   33   82    2   13    5    9   17    9   11    2\n    1    5    5    1    3    4]\n"
     ]
    }
   ],
   "source": [
    "values, counts=np.unique(ages_f,return_counts=True)\n",
    "print(counts)"
   ]
  },
  {
   "source": [
    "converting age count to lists"
   ],
   "cell_type": "markdown",
   "metadata": {}
  },
  {
   "cell_type": "code",
   "execution_count": 30,
   "metadata": {},
   "outputs": [],
   "source": [
    "val=values.tolist()\n",
    "cnt=counts.tolist()"
   ]
  },
  {
   "source": [
    "plotting the samples age wise"
   ],
   "cell_type": "markdown",
   "metadata": {}
  },
  {
   "cell_type": "code",
   "execution_count": 31,
   "metadata": {},
   "outputs": [
    {
     "output_type": "execute_result",
     "data": {
      "text/plain": [
       "<function matplotlib.pyplot.show(close=None, block=None)>"
      ]
     },
     "metadata": {},
     "execution_count": 31
    },
    {
     "output_type": "display_data",
     "data": {
      "text/plain": "<Figure size 432x288 with 1 Axes>",
      "image/svg+xml": "<?xml version=\"1.0\" encoding=\"utf-8\" standalone=\"no\"?>\r\n<!DOCTYPE svg PUBLIC \"-//W3C//DTD SVG 1.1//EN\"\r\n  \"http://www.w3.org/Graphics/SVG/1.1/DTD/svg11.dtd\">\r\n<svg height=\"262.19625pt\" version=\"1.1\" viewBox=\"0 0 395.328125 262.19625\" width=\"395.328125pt\" xmlns=\"http://www.w3.org/2000/svg\" xmlns:xlink=\"http://www.w3.org/1999/xlink\">\r\n <metadata>\r\n  <rdf:RDF xmlns:cc=\"http://creativecommons.org/ns#\" xmlns:dc=\"http://purl.org/dc/elements/1.1/\" xmlns:rdf=\"http://www.w3.org/1999/02/22-rdf-syntax-ns#\">\r\n   <cc:Work>\r\n    <dc:type rdf:resource=\"http://purl.org/dc/dcmitype/StillImage\"/>\r\n    <dc:date>2021-05-25T12:39:04.898499</dc:date>\r\n    <dc:format>image/svg+xml</dc:format>\r\n    <dc:creator>\r\n     <cc:Agent>\r\n      <dc:title>Matplotlib v3.4.2, https://matplotlib.org/</dc:title>\r\n     </cc:Agent>\r\n    </dc:creator>\r\n   </cc:Work>\r\n  </rdf:RDF>\r\n </metadata>\r\n <defs>\r\n  <style type=\"text/css\">*{stroke-linecap:butt;stroke-linejoin:round;}</style>\r\n </defs>\r\n <g id=\"figure_1\">\r\n  <g id=\"patch_1\">\r\n   <path d=\"M 0 262.19625 \r\nL 395.328125 262.19625 \r\nL 395.328125 0 \r\nL 0 0 \r\nz\r\n\" style=\"fill:none;\"/>\r\n  </g>\r\n  <g id=\"axes_1\">\r\n   <g id=\"patch_2\">\r\n    <path d=\"M 53.328125 224.64 \r\nL 388.128125 224.64 \r\nL 388.128125 7.2 \r\nL 53.328125 7.2 \r\nz\r\n\" style=\"fill:#ffffff;\"/>\r\n   </g>\r\n   <g id=\"matplotlib.axis_1\">\r\n    <g id=\"xtick_1\">\r\n     <g id=\"line2d_1\">\r\n      <defs>\r\n       <path d=\"M 0 0 \r\nL 0 3.5 \r\n\" id=\"meb872e7314\" style=\"stroke:#000000;stroke-width:0.8;\"/>\r\n      </defs>\r\n      <g>\r\n       <use style=\"stroke:#000000;stroke-width:0.8;\" x=\"68.546307\" xlink:href=\"#meb872e7314\" y=\"224.64\"/>\r\n      </g>\r\n     </g>\r\n     <g id=\"text_1\">\r\n      <!-- 0 -->\r\n      <g transform=\"translate(65.365057 239.238437)scale(0.1 -0.1)\">\r\n       <defs>\r\n        <path d=\"M 2034 4250 \r\nQ 1547 4250 1301 3770 \r\nQ 1056 3291 1056 2328 \r\nQ 1056 1369 1301 889 \r\nQ 1547 409 2034 409 \r\nQ 2525 409 2770 889 \r\nQ 3016 1369 3016 2328 \r\nQ 3016 3291 2770 3770 \r\nQ 2525 4250 2034 4250 \r\nz\r\nM 2034 4750 \r\nQ 2819 4750 3233 4129 \r\nQ 3647 3509 3647 2328 \r\nQ 3647 1150 3233 529 \r\nQ 2819 -91 2034 -91 \r\nQ 1250 -91 836 529 \r\nQ 422 1150 422 2328 \r\nQ 422 3509 836 4129 \r\nQ 1250 4750 2034 4750 \r\nz\r\n\" id=\"DejaVuSans-30\" transform=\"scale(0.015625)\"/>\r\n       </defs>\r\n       <use xlink:href=\"#DejaVuSans-30\"/>\r\n      </g>\r\n     </g>\r\n    </g>\r\n    <g id=\"xtick_2\">\r\n     <g id=\"line2d_2\">\r\n      <g>\r\n       <use style=\"stroke:#000000;stroke-width:0.8;\" x=\"127.646042\" xlink:href=\"#meb872e7314\" y=\"224.64\"/>\r\n      </g>\r\n     </g>\r\n     <g id=\"text_2\">\r\n      <!-- 20 -->\r\n      <g transform=\"translate(121.283542 239.238437)scale(0.1 -0.1)\">\r\n       <defs>\r\n        <path d=\"M 1228 531 \r\nL 3431 531 \r\nL 3431 0 \r\nL 469 0 \r\nL 469 531 \r\nQ 828 903 1448 1529 \r\nQ 2069 2156 2228 2338 \r\nQ 2531 2678 2651 2914 \r\nQ 2772 3150 2772 3378 \r\nQ 2772 3750 2511 3984 \r\nQ 2250 4219 1831 4219 \r\nQ 1534 4219 1204 4116 \r\nQ 875 4013 500 3803 \r\nL 500 4441 \r\nQ 881 4594 1212 4672 \r\nQ 1544 4750 1819 4750 \r\nQ 2544 4750 2975 4387 \r\nQ 3406 4025 3406 3419 \r\nQ 3406 3131 3298 2873 \r\nQ 3191 2616 2906 2266 \r\nQ 2828 2175 2409 1742 \r\nQ 1991 1309 1228 531 \r\nz\r\n\" id=\"DejaVuSans-32\" transform=\"scale(0.015625)\"/>\r\n       </defs>\r\n       <use xlink:href=\"#DejaVuSans-32\"/>\r\n       <use x=\"63.623047\" xlink:href=\"#DejaVuSans-30\"/>\r\n      </g>\r\n     </g>\r\n    </g>\r\n    <g id=\"xtick_3\">\r\n     <g id=\"line2d_3\">\r\n      <g>\r\n       <use style=\"stroke:#000000;stroke-width:0.8;\" x=\"186.745777\" xlink:href=\"#meb872e7314\" y=\"224.64\"/>\r\n      </g>\r\n     </g>\r\n     <g id=\"text_3\">\r\n      <!-- 40 -->\r\n      <g transform=\"translate(180.383277 239.238437)scale(0.1 -0.1)\">\r\n       <defs>\r\n        <path d=\"M 2419 4116 \r\nL 825 1625 \r\nL 2419 1625 \r\nL 2419 4116 \r\nz\r\nM 2253 4666 \r\nL 3047 4666 \r\nL 3047 1625 \r\nL 3713 1625 \r\nL 3713 1100 \r\nL 3047 1100 \r\nL 3047 0 \r\nL 2419 0 \r\nL 2419 1100 \r\nL 313 1100 \r\nL 313 1709 \r\nL 2253 4666 \r\nz\r\n\" id=\"DejaVuSans-34\" transform=\"scale(0.015625)\"/>\r\n       </defs>\r\n       <use xlink:href=\"#DejaVuSans-34\"/>\r\n       <use x=\"63.623047\" xlink:href=\"#DejaVuSans-30\"/>\r\n      </g>\r\n     </g>\r\n    </g>\r\n    <g id=\"xtick_4\">\r\n     <g id=\"line2d_4\">\r\n      <g>\r\n       <use style=\"stroke:#000000;stroke-width:0.8;\" x=\"245.845512\" xlink:href=\"#meb872e7314\" y=\"224.64\"/>\r\n      </g>\r\n     </g>\r\n     <g id=\"text_4\">\r\n      <!-- 60 -->\r\n      <g transform=\"translate(239.483012 239.238437)scale(0.1 -0.1)\">\r\n       <defs>\r\n        <path d=\"M 2113 2584 \r\nQ 1688 2584 1439 2293 \r\nQ 1191 2003 1191 1497 \r\nQ 1191 994 1439 701 \r\nQ 1688 409 2113 409 \r\nQ 2538 409 2786 701 \r\nQ 3034 994 3034 1497 \r\nQ 3034 2003 2786 2293 \r\nQ 2538 2584 2113 2584 \r\nz\r\nM 3366 4563 \r\nL 3366 3988 \r\nQ 3128 4100 2886 4159 \r\nQ 2644 4219 2406 4219 \r\nQ 1781 4219 1451 3797 \r\nQ 1122 3375 1075 2522 \r\nQ 1259 2794 1537 2939 \r\nQ 1816 3084 2150 3084 \r\nQ 2853 3084 3261 2657 \r\nQ 3669 2231 3669 1497 \r\nQ 3669 778 3244 343 \r\nQ 2819 -91 2113 -91 \r\nQ 1303 -91 875 529 \r\nQ 447 1150 447 2328 \r\nQ 447 3434 972 4092 \r\nQ 1497 4750 2381 4750 \r\nQ 2619 4750 2861 4703 \r\nQ 3103 4656 3366 4563 \r\nz\r\n\" id=\"DejaVuSans-36\" transform=\"scale(0.015625)\"/>\r\n       </defs>\r\n       <use xlink:href=\"#DejaVuSans-36\"/>\r\n       <use x=\"63.623047\" xlink:href=\"#DejaVuSans-30\"/>\r\n      </g>\r\n     </g>\r\n    </g>\r\n    <g id=\"xtick_5\">\r\n     <g id=\"line2d_5\">\r\n      <g>\r\n       <use style=\"stroke:#000000;stroke-width:0.8;\" x=\"304.945248\" xlink:href=\"#meb872e7314\" y=\"224.64\"/>\r\n      </g>\r\n     </g>\r\n     <g id=\"text_5\">\r\n      <!-- 80 -->\r\n      <g transform=\"translate(298.582748 239.238437)scale(0.1 -0.1)\">\r\n       <defs>\r\n        <path d=\"M 2034 2216 \r\nQ 1584 2216 1326 1975 \r\nQ 1069 1734 1069 1313 \r\nQ 1069 891 1326 650 \r\nQ 1584 409 2034 409 \r\nQ 2484 409 2743 651 \r\nQ 3003 894 3003 1313 \r\nQ 3003 1734 2745 1975 \r\nQ 2488 2216 2034 2216 \r\nz\r\nM 1403 2484 \r\nQ 997 2584 770 2862 \r\nQ 544 3141 544 3541 \r\nQ 544 4100 942 4425 \r\nQ 1341 4750 2034 4750 \r\nQ 2731 4750 3128 4425 \r\nQ 3525 4100 3525 3541 \r\nQ 3525 3141 3298 2862 \r\nQ 3072 2584 2669 2484 \r\nQ 3125 2378 3379 2068 \r\nQ 3634 1759 3634 1313 \r\nQ 3634 634 3220 271 \r\nQ 2806 -91 2034 -91 \r\nQ 1263 -91 848 271 \r\nQ 434 634 434 1313 \r\nQ 434 1759 690 2068 \r\nQ 947 2378 1403 2484 \r\nz\r\nM 1172 3481 \r\nQ 1172 3119 1398 2916 \r\nQ 1625 2713 2034 2713 \r\nQ 2441 2713 2670 2916 \r\nQ 2900 3119 2900 3481 \r\nQ 2900 3844 2670 4047 \r\nQ 2441 4250 2034 4250 \r\nQ 1625 4250 1398 4047 \r\nQ 1172 3844 1172 3481 \r\nz\r\n\" id=\"DejaVuSans-38\" transform=\"scale(0.015625)\"/>\r\n       </defs>\r\n       <use xlink:href=\"#DejaVuSans-38\"/>\r\n       <use x=\"63.623047\" xlink:href=\"#DejaVuSans-30\"/>\r\n      </g>\r\n     </g>\r\n    </g>\r\n    <g id=\"xtick_6\">\r\n     <g id=\"line2d_6\">\r\n      <g>\r\n       <use style=\"stroke:#000000;stroke-width:0.8;\" x=\"364.044983\" xlink:href=\"#meb872e7314\" y=\"224.64\"/>\r\n      </g>\r\n     </g>\r\n     <g id=\"text_6\">\r\n      <!-- 100 -->\r\n      <g transform=\"translate(354.501233 239.238437)scale(0.1 -0.1)\">\r\n       <defs>\r\n        <path d=\"M 794 531 \r\nL 1825 531 \r\nL 1825 4091 \r\nL 703 3866 \r\nL 703 4441 \r\nL 1819 4666 \r\nL 2450 4666 \r\nL 2450 531 \r\nL 3481 531 \r\nL 3481 0 \r\nL 794 0 \r\nL 794 531 \r\nz\r\n\" id=\"DejaVuSans-31\" transform=\"scale(0.015625)\"/>\r\n       </defs>\r\n       <use xlink:href=\"#DejaVuSans-31\"/>\r\n       <use x=\"63.623047\" xlink:href=\"#DejaVuSans-30\"/>\r\n       <use x=\"127.246094\" xlink:href=\"#DejaVuSans-30\"/>\r\n      </g>\r\n     </g>\r\n    </g>\r\n    <g id=\"text_7\">\r\n     <!-- Ages -->\r\n     <g transform=\"translate(208.452344 252.916562)scale(0.1 -0.1)\">\r\n      <defs>\r\n       <path d=\"M 2188 4044 \r\nL 1331 1722 \r\nL 3047 1722 \r\nL 2188 4044 \r\nz\r\nM 1831 4666 \r\nL 2547 4666 \r\nL 4325 0 \r\nL 3669 0 \r\nL 3244 1197 \r\nL 1141 1197 \r\nL 716 0 \r\nL 50 0 \r\nL 1831 4666 \r\nz\r\n\" id=\"DejaVuSans-41\" transform=\"scale(0.015625)\"/>\r\n       <path d=\"M 2906 1791 \r\nQ 2906 2416 2648 2759 \r\nQ 2391 3103 1925 3103 \r\nQ 1463 3103 1205 2759 \r\nQ 947 2416 947 1791 \r\nQ 947 1169 1205 825 \r\nQ 1463 481 1925 481 \r\nQ 2391 481 2648 825 \r\nQ 2906 1169 2906 1791 \r\nz\r\nM 3481 434 \r\nQ 3481 -459 3084 -895 \r\nQ 2688 -1331 1869 -1331 \r\nQ 1566 -1331 1297 -1286 \r\nQ 1028 -1241 775 -1147 \r\nL 775 -588 \r\nQ 1028 -725 1275 -790 \r\nQ 1522 -856 1778 -856 \r\nQ 2344 -856 2625 -561 \r\nQ 2906 -266 2906 331 \r\nL 2906 616 \r\nQ 2728 306 2450 153 \r\nQ 2172 0 1784 0 \r\nQ 1141 0 747 490 \r\nQ 353 981 353 1791 \r\nQ 353 2603 747 3093 \r\nQ 1141 3584 1784 3584 \r\nQ 2172 3584 2450 3431 \r\nQ 2728 3278 2906 2969 \r\nL 2906 3500 \r\nL 3481 3500 \r\nL 3481 434 \r\nz\r\n\" id=\"DejaVuSans-67\" transform=\"scale(0.015625)\"/>\r\n       <path d=\"M 3597 1894 \r\nL 3597 1613 \r\nL 953 1613 \r\nQ 991 1019 1311 708 \r\nQ 1631 397 2203 397 \r\nQ 2534 397 2845 478 \r\nQ 3156 559 3463 722 \r\nL 3463 178 \r\nQ 3153 47 2828 -22 \r\nQ 2503 -91 2169 -91 \r\nQ 1331 -91 842 396 \r\nQ 353 884 353 1716 \r\nQ 353 2575 817 3079 \r\nQ 1281 3584 2069 3584 \r\nQ 2775 3584 3186 3129 \r\nQ 3597 2675 3597 1894 \r\nz\r\nM 3022 2063 \r\nQ 3016 2534 2758 2815 \r\nQ 2500 3097 2075 3097 \r\nQ 1594 3097 1305 2825 \r\nQ 1016 2553 972 2059 \r\nL 3022 2063 \r\nz\r\n\" id=\"DejaVuSans-65\" transform=\"scale(0.015625)\"/>\r\n       <path d=\"M 2834 3397 \r\nL 2834 2853 \r\nQ 2591 2978 2328 3040 \r\nQ 2066 3103 1784 3103 \r\nQ 1356 3103 1142 2972 \r\nQ 928 2841 928 2578 \r\nQ 928 2378 1081 2264 \r\nQ 1234 2150 1697 2047 \r\nL 1894 2003 \r\nQ 2506 1872 2764 1633 \r\nQ 3022 1394 3022 966 \r\nQ 3022 478 2636 193 \r\nQ 2250 -91 1575 -91 \r\nQ 1294 -91 989 -36 \r\nQ 684 19 347 128 \r\nL 347 722 \r\nQ 666 556 975 473 \r\nQ 1284 391 1588 391 \r\nQ 1994 391 2212 530 \r\nQ 2431 669 2431 922 \r\nQ 2431 1156 2273 1281 \r\nQ 2116 1406 1581 1522 \r\nL 1381 1569 \r\nQ 847 1681 609 1914 \r\nQ 372 2147 372 2553 \r\nQ 372 3047 722 3315 \r\nQ 1072 3584 1716 3584 \r\nQ 2034 3584 2315 3537 \r\nQ 2597 3491 2834 3397 \r\nz\r\n\" id=\"DejaVuSans-73\" transform=\"scale(0.015625)\"/>\r\n      </defs>\r\n      <use xlink:href=\"#DejaVuSans-41\"/>\r\n      <use x=\"68.408203\" xlink:href=\"#DejaVuSans-67\"/>\r\n      <use x=\"131.884766\" xlink:href=\"#DejaVuSans-65\"/>\r\n      <use x=\"193.408203\" xlink:href=\"#DejaVuSans-73\"/>\r\n     </g>\r\n    </g>\r\n   </g>\r\n   <g id=\"matplotlib.axis_2\">\r\n    <g id=\"ytick_1\">\r\n     <g id=\"line2d_7\">\r\n      <defs>\r\n       <path d=\"M 0 0 \r\nL -3.5 0 \r\n\" id=\"m00a6adf013\" style=\"stroke:#000000;stroke-width:0.8;\"/>\r\n      </defs>\r\n      <g>\r\n       <use style=\"stroke:#000000;stroke-width:0.8;\" x=\"53.328125\" xlink:href=\"#m00a6adf013\" y=\"214.846379\"/>\r\n      </g>\r\n     </g>\r\n     <g id=\"text_8\">\r\n      <!-- 0 -->\r\n      <g transform=\"translate(39.965625 218.645597)scale(0.1 -0.1)\">\r\n       <use xlink:href=\"#DejaVuSans-30\"/>\r\n      </g>\r\n     </g>\r\n    </g>\r\n    <g id=\"ytick_2\">\r\n     <g id=\"line2d_8\">\r\n      <g>\r\n       <use style=\"stroke:#000000;stroke-width:0.8;\" x=\"53.328125\" xlink:href=\"#m00a6adf013\" y=\"169.838927\"/>\r\n      </g>\r\n     </g>\r\n     <g id=\"text_9\">\r\n      <!-- 500 -->\r\n      <g transform=\"translate(27.240625 173.638146)scale(0.1 -0.1)\">\r\n       <defs>\r\n        <path d=\"M 691 4666 \r\nL 3169 4666 \r\nL 3169 4134 \r\nL 1269 4134 \r\nL 1269 2991 \r\nQ 1406 3038 1543 3061 \r\nQ 1681 3084 1819 3084 \r\nQ 2600 3084 3056 2656 \r\nQ 3513 2228 3513 1497 \r\nQ 3513 744 3044 326 \r\nQ 2575 -91 1722 -91 \r\nQ 1428 -91 1123 -41 \r\nQ 819 9 494 109 \r\nL 494 744 \r\nQ 775 591 1075 516 \r\nQ 1375 441 1709 441 \r\nQ 2250 441 2565 725 \r\nQ 2881 1009 2881 1497 \r\nQ 2881 1984 2565 2268 \r\nQ 2250 2553 1709 2553 \r\nQ 1456 2553 1204 2497 \r\nQ 953 2441 691 2322 \r\nL 691 4666 \r\nz\r\n\" id=\"DejaVuSans-35\" transform=\"scale(0.015625)\"/>\r\n       </defs>\r\n       <use xlink:href=\"#DejaVuSans-35\"/>\r\n       <use x=\"63.623047\" xlink:href=\"#DejaVuSans-30\"/>\r\n       <use x=\"127.246094\" xlink:href=\"#DejaVuSans-30\"/>\r\n      </g>\r\n     </g>\r\n    </g>\r\n    <g id=\"ytick_3\">\r\n     <g id=\"line2d_9\">\r\n      <g>\r\n       <use style=\"stroke:#000000;stroke-width:0.8;\" x=\"53.328125\" xlink:href=\"#m00a6adf013\" y=\"124.831475\"/>\r\n      </g>\r\n     </g>\r\n     <g id=\"text_10\">\r\n      <!-- 1000 -->\r\n      <g transform=\"translate(20.878125 128.630694)scale(0.1 -0.1)\">\r\n       <use xlink:href=\"#DejaVuSans-31\"/>\r\n       <use x=\"63.623047\" xlink:href=\"#DejaVuSans-30\"/>\r\n       <use x=\"127.246094\" xlink:href=\"#DejaVuSans-30\"/>\r\n       <use x=\"190.869141\" xlink:href=\"#DejaVuSans-30\"/>\r\n      </g>\r\n     </g>\r\n    </g>\r\n    <g id=\"ytick_4\">\r\n     <g id=\"line2d_10\">\r\n      <g>\r\n       <use style=\"stroke:#000000;stroke-width:0.8;\" x=\"53.328125\" xlink:href=\"#m00a6adf013\" y=\"79.824024\"/>\r\n      </g>\r\n     </g>\r\n     <g id=\"text_11\">\r\n      <!-- 1500 -->\r\n      <g transform=\"translate(20.878125 83.623243)scale(0.1 -0.1)\">\r\n       <use xlink:href=\"#DejaVuSans-31\"/>\r\n       <use x=\"63.623047\" xlink:href=\"#DejaVuSans-35\"/>\r\n       <use x=\"127.246094\" xlink:href=\"#DejaVuSans-30\"/>\r\n       <use x=\"190.869141\" xlink:href=\"#DejaVuSans-30\"/>\r\n      </g>\r\n     </g>\r\n    </g>\r\n    <g id=\"ytick_5\">\r\n     <g id=\"line2d_11\">\r\n      <g>\r\n       <use style=\"stroke:#000000;stroke-width:0.8;\" x=\"53.328125\" xlink:href=\"#m00a6adf013\" y=\"34.816572\"/>\r\n      </g>\r\n     </g>\r\n     <g id=\"text_12\">\r\n      <!-- 2000 -->\r\n      <g transform=\"translate(20.878125 38.615791)scale(0.1 -0.1)\">\r\n       <use xlink:href=\"#DejaVuSans-32\"/>\r\n       <use x=\"63.623047\" xlink:href=\"#DejaVuSans-30\"/>\r\n       <use x=\"127.246094\" xlink:href=\"#DejaVuSans-30\"/>\r\n       <use x=\"190.869141\" xlink:href=\"#DejaVuSans-30\"/>\r\n      </g>\r\n     </g>\r\n    </g>\r\n    <g id=\"text_13\">\r\n     <!-- Distribution -->\r\n     <g transform=\"translate(14.798438 145.08875)rotate(-90)scale(0.1 -0.1)\">\r\n      <defs>\r\n       <path d=\"M 1259 4147 \r\nL 1259 519 \r\nL 2022 519 \r\nQ 2988 519 3436 956 \r\nQ 3884 1394 3884 2338 \r\nQ 3884 3275 3436 3711 \r\nQ 2988 4147 2022 4147 \r\nL 1259 4147 \r\nz\r\nM 628 4666 \r\nL 1925 4666 \r\nQ 3281 4666 3915 4102 \r\nQ 4550 3538 4550 2338 \r\nQ 4550 1131 3912 565 \r\nQ 3275 0 1925 0 \r\nL 628 0 \r\nL 628 4666 \r\nz\r\n\" id=\"DejaVuSans-44\" transform=\"scale(0.015625)\"/>\r\n       <path d=\"M 603 3500 \r\nL 1178 3500 \r\nL 1178 0 \r\nL 603 0 \r\nL 603 3500 \r\nz\r\nM 603 4863 \r\nL 1178 4863 \r\nL 1178 4134 \r\nL 603 4134 \r\nL 603 4863 \r\nz\r\n\" id=\"DejaVuSans-69\" transform=\"scale(0.015625)\"/>\r\n       <path d=\"M 1172 4494 \r\nL 1172 3500 \r\nL 2356 3500 \r\nL 2356 3053 \r\nL 1172 3053 \r\nL 1172 1153 \r\nQ 1172 725 1289 603 \r\nQ 1406 481 1766 481 \r\nL 2356 481 \r\nL 2356 0 \r\nL 1766 0 \r\nQ 1100 0 847 248 \r\nQ 594 497 594 1153 \r\nL 594 3053 \r\nL 172 3053 \r\nL 172 3500 \r\nL 594 3500 \r\nL 594 4494 \r\nL 1172 4494 \r\nz\r\n\" id=\"DejaVuSans-74\" transform=\"scale(0.015625)\"/>\r\n       <path d=\"M 2631 2963 \r\nQ 2534 3019 2420 3045 \r\nQ 2306 3072 2169 3072 \r\nQ 1681 3072 1420 2755 \r\nQ 1159 2438 1159 1844 \r\nL 1159 0 \r\nL 581 0 \r\nL 581 3500 \r\nL 1159 3500 \r\nL 1159 2956 \r\nQ 1341 3275 1631 3429 \r\nQ 1922 3584 2338 3584 \r\nQ 2397 3584 2469 3576 \r\nQ 2541 3569 2628 3553 \r\nL 2631 2963 \r\nz\r\n\" id=\"DejaVuSans-72\" transform=\"scale(0.015625)\"/>\r\n       <path d=\"M 3116 1747 \r\nQ 3116 2381 2855 2742 \r\nQ 2594 3103 2138 3103 \r\nQ 1681 3103 1420 2742 \r\nQ 1159 2381 1159 1747 \r\nQ 1159 1113 1420 752 \r\nQ 1681 391 2138 391 \r\nQ 2594 391 2855 752 \r\nQ 3116 1113 3116 1747 \r\nz\r\nM 1159 2969 \r\nQ 1341 3281 1617 3432 \r\nQ 1894 3584 2278 3584 \r\nQ 2916 3584 3314 3078 \r\nQ 3713 2572 3713 1747 \r\nQ 3713 922 3314 415 \r\nQ 2916 -91 2278 -91 \r\nQ 1894 -91 1617 61 \r\nQ 1341 213 1159 525 \r\nL 1159 0 \r\nL 581 0 \r\nL 581 4863 \r\nL 1159 4863 \r\nL 1159 2969 \r\nz\r\n\" id=\"DejaVuSans-62\" transform=\"scale(0.015625)\"/>\r\n       <path d=\"M 544 1381 \r\nL 544 3500 \r\nL 1119 3500 \r\nL 1119 1403 \r\nQ 1119 906 1312 657 \r\nQ 1506 409 1894 409 \r\nQ 2359 409 2629 706 \r\nQ 2900 1003 2900 1516 \r\nL 2900 3500 \r\nL 3475 3500 \r\nL 3475 0 \r\nL 2900 0 \r\nL 2900 538 \r\nQ 2691 219 2414 64 \r\nQ 2138 -91 1772 -91 \r\nQ 1169 -91 856 284 \r\nQ 544 659 544 1381 \r\nz\r\nM 1991 3584 \r\nL 1991 3584 \r\nz\r\n\" id=\"DejaVuSans-75\" transform=\"scale(0.015625)\"/>\r\n       <path d=\"M 1959 3097 \r\nQ 1497 3097 1228 2736 \r\nQ 959 2375 959 1747 \r\nQ 959 1119 1226 758 \r\nQ 1494 397 1959 397 \r\nQ 2419 397 2687 759 \r\nQ 2956 1122 2956 1747 \r\nQ 2956 2369 2687 2733 \r\nQ 2419 3097 1959 3097 \r\nz\r\nM 1959 3584 \r\nQ 2709 3584 3137 3096 \r\nQ 3566 2609 3566 1747 \r\nQ 3566 888 3137 398 \r\nQ 2709 -91 1959 -91 \r\nQ 1206 -91 779 398 \r\nQ 353 888 353 1747 \r\nQ 353 2609 779 3096 \r\nQ 1206 3584 1959 3584 \r\nz\r\n\" id=\"DejaVuSans-6f\" transform=\"scale(0.015625)\"/>\r\n       <path d=\"M 3513 2113 \r\nL 3513 0 \r\nL 2938 0 \r\nL 2938 2094 \r\nQ 2938 2591 2744 2837 \r\nQ 2550 3084 2163 3084 \r\nQ 1697 3084 1428 2787 \r\nQ 1159 2491 1159 1978 \r\nL 1159 0 \r\nL 581 0 \r\nL 581 3500 \r\nL 1159 3500 \r\nL 1159 2956 \r\nQ 1366 3272 1645 3428 \r\nQ 1925 3584 2291 3584 \r\nQ 2894 3584 3203 3211 \r\nQ 3513 2838 3513 2113 \r\nz\r\n\" id=\"DejaVuSans-6e\" transform=\"scale(0.015625)\"/>\r\n      </defs>\r\n      <use xlink:href=\"#DejaVuSans-44\"/>\r\n      <use x=\"77.001953\" xlink:href=\"#DejaVuSans-69\"/>\r\n      <use x=\"104.785156\" xlink:href=\"#DejaVuSans-73\"/>\r\n      <use x=\"156.884766\" xlink:href=\"#DejaVuSans-74\"/>\r\n      <use x=\"196.09375\" xlink:href=\"#DejaVuSans-72\"/>\r\n      <use x=\"237.207031\" xlink:href=\"#DejaVuSans-69\"/>\r\n      <use x=\"264.990234\" xlink:href=\"#DejaVuSans-62\"/>\r\n      <use x=\"328.466797\" xlink:href=\"#DejaVuSans-75\"/>\r\n      <use x=\"391.845703\" xlink:href=\"#DejaVuSans-74\"/>\r\n      <use x=\"431.054688\" xlink:href=\"#DejaVuSans-69\"/>\r\n      <use x=\"458.837891\" xlink:href=\"#DejaVuSans-6f\"/>\r\n      <use x=\"520.019531\" xlink:href=\"#DejaVuSans-6e\"/>\r\n     </g>\r\n    </g>\r\n   </g>\r\n   <g id=\"line2d_12\">\r\n    <path clip-path=\"url(#pe2055d878c)\" d=\"M 68.546307 113.759642 \r\nL 71.501294 171.459195 \r\nL 74.45628 188.832072 \r\nL 77.411267 190.27231 \r\nL 80.366254 197.203458 \r\nL 83.321241 203.054426 \r\nL 86.276227 202.334307 \r\nL 89.231214 191.172459 \r\nL 92.186201 199.903905 \r\nL 95.141188 200.804054 \r\nL 98.096174 208.99541 \r\nL 101.051161 203.144441 \r\nL 104.006148 207.555171 \r\nL 106.961135 200.714039 \r\nL 109.916121 198.913741 \r\nL 112.871108 192.612697 \r\nL 115.826095 200.624024 \r\nL 118.781082 191.262474 \r\nL 121.736069 206.024918 \r\nL 124.691055 189.282146 \r\nL 127.646042 183.701222 \r\nL 130.601029 179.290492 \r\nL 133.556016 176.50003 \r\nL 136.511002 137.523577 \r\nL 139.465989 148.77544 \r\nL 142.420976 17.083636 \r\nL 145.375963 159.487213 \r\nL 148.330949 132.212697 \r\nL 151.285936 163.537884 \r\nL 154.240923 149.675589 \r\nL 157.19591 183.341162 \r\nL 160.150896 155.076483 \r\nL 163.105883 201.974247 \r\nL 166.06087 178.030283 \r\nL 169.015857 135.633264 \r\nL 171.970843 171.36918 \r\nL 174.92583 188.472012 \r\nL 177.880817 185.591535 \r\nL 180.835804 190.902414 \r\nL 183.79079 167.498539 \r\nL 186.745777 202.964411 \r\nL 189.700764 190.902414 \r\nL 192.655751 200.714039 \r\nL 195.610738 205.844888 \r\nL 198.565724 175.239821 \r\nL 201.520711 201.074098 \r\nL 204.475698 199.543845 \r\nL 207.430685 201.074098 \r\nL 210.385671 201.524173 \r\nL 213.340658 180.5507 \r\nL 216.295645 202.424322 \r\nL 219.250632 193.962921 \r\nL 222.205618 193.152787 \r\nL 225.160605 183.071118 \r\nL 228.115592 190.722385 \r\nL 231.070579 193.602861 \r\nL 234.025565 206.114933 \r\nL 236.980552 190.45234 \r\nL 239.935539 207.465156 \r\nL 242.890526 188.472012 \r\nL 245.845512 200.353979 \r\nL 248.800499 203.594516 \r\nL 251.755486 205.574844 \r\nL 254.710473 210.345633 \r\nL 257.66546 191.532519 \r\nL 260.620446 207.915231 \r\nL 263.575433 206.384978 \r\nL 266.53042 205.844888 \r\nL 269.485407 209.805544 \r\nL 272.440393 201.614188 \r\nL 275.39538 211.875887 \r\nL 278.350367 206.024918 \r\nL 281.305354 209.17544 \r\nL 284.26034 211.965902 \r\nL 287.215327 201.524173 \r\nL 290.170314 209.625514 \r\nL 293.125301 212.325961 \r\nL 296.080287 208.63535 \r\nL 299.035274 212.776036 \r\nL 301.990261 202.874396 \r\nL 304.945248 212.866051 \r\nL 307.900234 211.245782 \r\nL 310.855221 213.22611 \r\nL 313.810208 212.686021 \r\nL 316.765195 200.894069 \r\nL 319.720181 211.695857 \r\nL 322.675168 213.94623 \r\nL 325.630155 211.785872 \r\nL 328.585142 211.875887 \r\nL 331.540129 207.465156 \r\nL 334.495115 214.666349 \r\nL 337.450102 213.676185 \r\nL 340.405089 214.396304 \r\nL 343.360076 214.036244 \r\nL 346.315062 213.316125 \r\nL 349.270049 214.036244 \r\nL 352.225036 213.856215 \r\nL 355.180023 214.666349 \r\nL 358.135009 214.756364 \r\nL 361.089996 214.396304 \r\nL 364.044983 214.396304 \r\nL 366.99997 214.756364 \r\nL 369.954956 214.576334 \r\nL 372.909943 214.486319 \r\n\" style=\"fill:none;stroke:#1f77b4;stroke-linecap:square;stroke-width:1.5;\"/>\r\n   </g>\r\n   <g id=\"patch_3\">\r\n    <path d=\"M 53.328125 224.64 \r\nL 53.328125 7.2 \r\n\" style=\"fill:none;stroke:#000000;stroke-linecap:square;stroke-linejoin:miter;stroke-width:0.8;\"/>\r\n   </g>\r\n   <g id=\"patch_4\">\r\n    <path d=\"M 388.128125 224.64 \r\nL 388.128125 7.2 \r\n\" style=\"fill:none;stroke:#000000;stroke-linecap:square;stroke-linejoin:miter;stroke-width:0.8;\"/>\r\n   </g>\r\n   <g id=\"patch_5\">\r\n    <path d=\"M 53.328125 224.64 \r\nL 388.128125 224.64 \r\n\" style=\"fill:none;stroke:#000000;stroke-linecap:square;stroke-linejoin:miter;stroke-width:0.8;\"/>\r\n   </g>\r\n   <g id=\"patch_6\">\r\n    <path d=\"M 53.328125 7.2 \r\nL 388.128125 7.2 \r\n\" style=\"fill:none;stroke:#000000;stroke-linecap:square;stroke-linejoin:miter;stroke-width:0.8;\"/>\r\n   </g>\r\n  </g>\r\n </g>\r\n <defs>\r\n  <clipPath id=\"pe2055d878c\">\r\n   <rect height=\"217.44\" width=\"334.8\" x=\"53.328125\" y=\"7.2\"/>\r\n  </clipPath>\r\n </defs>\r\n</svg>\r\n",
      "image/png": "[encoded data removed]"
     },
     "metadata": {
      "needs_background": "light"
     }
    }
   ],
   "source": [
    "plt.plot(counts)\n",
    "plt.xlabel('Ages')\n",
    "plt.ylabel('Distribution')\n",
    "plt.show"
   ]
  },
  {
   "cell_type": "code",
   "execution_count": 32,
   "metadata": {},
   "outputs": [
    {
     "output_type": "execute_result",
     "data": {
      "text/plain": [
       "23708"
      ]
     },
     "metadata": {},
     "execution_count": 32
    }
   ],
   "source": [
    "len(genders)"
   ]
  },
  {
   "cell_type": "code",
   "execution_count": 33,
   "metadata": {},
   "outputs": [],
   "source": [
    "##defining labels for output"
   ]
  },
  {
   "cell_type": "code",
   "execution_count": 34,
   "metadata": {},
   "outputs": [],
   "source": [
    "labels=[]\n",
    "i=0\n",
    "while i<len(ages):\n",
    "    label=[]\n",
    "    label.append(ages[i])\n",
    "    label.append(genders[i])\n",
    "    labels.append(label)\n",
    "    i=i+1"
   ]
  },
  {
   "cell_type": "code",
   "execution_count": 35,
   "metadata": {},
   "outputs": [],
   "source": [
    "#creating another list of images from existing one for better learning"
   ]
  },
  {
   "cell_type": "code",
   "execution_count": 36,
   "metadata": {},
   "outputs": [],
   "source": [
    "images_f_2=images_f/255"
   ]
  },
  {
   "cell_type": "code",
   "execution_count": 37,
   "metadata": {},
   "outputs": [
    {
     "output_type": "execute_result",
     "data": {
      "text/plain": [
       "(23708, 48, 48, 3)"
      ]
     },
     "metadata": {},
     "execution_count": 37
    }
   ],
   "source": [
    "images_f_2.shape"
   ]
  },
  {
   "cell_type": "code",
   "execution_count": 38,
   "metadata": {},
   "outputs": [],
   "source": [
    "labels_f=np.array(labels)"
   ]
  },
  {
   "source": [
    "## Splitting the dataset into test and train"
   ],
   "cell_type": "markdown",
   "metadata": {}
  },
  {
   "cell_type": "code",
   "execution_count": 39,
   "metadata": {},
   "outputs": [],
   "source": [
    "from sklearn.model_selection import train_test_split"
   ]
  },
  {
   "cell_type": "code",
   "execution_count": 40,
   "metadata": {},
   "outputs": [],
   "source": [
    "X_train,X_test,Y_train,Y_test=train_test_split(images_f_2,labels_f,test_size=0.25)"
   ]
  },
  {
   "cell_type": "code",
   "execution_count": 41,
   "metadata": {},
   "outputs": [
    {
     "output_type": "execute_result",
     "data": {
      "text/plain": [
       "array([[39,  0],\n",
       "       [55,  1],\n",
       "       [ 1,  1],\n",
       "       [68,  0],\n",
       "       [56,  1]])"
      ]
     },
     "metadata": {},
     "execution_count": 41
    }
   ],
   "source": [
    "Y_train[0:5]"
   ]
  },
  {
   "source": [
    "## Splitting \"y_test\" and \"y_train\""
   ],
   "cell_type": "markdown",
   "metadata": {}
  },
  {
   "cell_type": "code",
   "execution_count": 42,
   "metadata": {},
   "outputs": [],
   "source": [
    "Y_train_2=[Y_train[:,1],Y_train[:,0]]\n",
    "Y_test_2=[Y_test[:,1],Y_test[:,0]]"
   ]
  },
  {
   "cell_type": "code",
   "execution_count": 43,
   "metadata": {},
   "outputs": [
    {
     "output_type": "execute_result",
     "data": {
      "text/plain": [
       "array([0, 1, 1, 0, 1])"
      ]
     },
     "metadata": {},
     "execution_count": 43
    }
   ],
   "source": [
    "Y_train_2[0][0:5]"
   ]
  },
  {
   "cell_type": "code",
   "execution_count": 44,
   "metadata": {},
   "outputs": [
    {
     "output_type": "execute_result",
     "data": {
      "text/plain": [
       "array([39, 55,  1, 68, 56])"
      ]
     },
     "metadata": {},
     "execution_count": 44
    }
   ],
   "source": [
    "Y_train_2[1][0:5]"
   ]
  },
  {
   "source": [
    "## defining the model"
   ],
   "cell_type": "markdown",
   "metadata": {}
  },
  {
   "cell_type": "code",
   "execution_count": 45,
   "metadata": {},
   "outputs": [],
   "source": [
    "def Convolution(input_tensor, filters):\n",
    "    x=Conv2D(filters=filters,kernel_size=(3,3),padding=\"same\",strides=(1,1),kernel_regularizer=l2(0.001))(input_tensor)\n",
    "    x=Dropout(0.1)(x)\n",
    "    x=Activation(\"relu\")(x)\n",
    "    return x\n"
   ]
  },
  {
   "cell_type": "code",
   "execution_count": 46,
   "metadata": {},
   "outputs": [],
   "source": [
    "def model(input_shape):\n",
    "    inputs=Input((input_shape))\n",
    "    conv_1=Convolution(inputs,32)\n",
    "    maxp_1=MaxPooling2D(pool_size=(2,2))(conv_1)\n",
    "    conv_2=Convolution(maxp_1,64)\n",
    "    maxp_2=MaxPooling2D(pool_size=(2,2))(conv_2)\n",
    "    conv_3=Convolution(maxp_2,128)\n",
    "    maxp_3=MaxPooling2D(pool_size=(2,2))(conv_3)\n",
    "    conv_4=Convolution(maxp_3,256)\n",
    "    maxp_4=MaxPooling2D(pool_size=(2,2))(conv_4)\n",
    "    flatten=Flatten()(maxp_4)\n",
    "    dense_1=Dense(64,activation=\"relu\")(flatten)\n",
    "    dense_2=Dense(64,activation=\"relu\")(flatten)\n",
    "    drop_1=Dropout(0.2)(dense_1)\n",
    "    drop_2=Dropout(0.2)(dense_2)\n",
    "    output_1=Dense(1,activation=\"sigmoid\",name=\"sex_out\")(drop_1)\n",
    "    output_2=Dense(1,activation=\"relu\",name=\"age_out\")(drop_2)\n",
    "    model=Model(inputs=[inputs],outputs=[output_1,output_2])\n",
    "    model.compile(loss=[\"binary_crossentropy\",\"mae\"],optimizer=\"Adam\",metrics=[\"accuracy\"])\n",
    "    return model"
   ]
  },
  {
   "cell_type": "code",
   "execution_count": 47,
   "metadata": {},
   "outputs": [],
   "source": [
    "Model = model((48,48,3))"
   ]
  },
  {
   "cell_type": "code",
   "execution_count": 48,
   "metadata": {},
   "outputs": [
    {
     "output_type": "stream",
     "name": "stdout",
     "text": [
      "Model: \"model\"\n",
      "__________________________________________________________________________________________________\n",
      "Layer (type)                    Output Shape         Param #     Connected to                     \n",
      "==================================================================================================\n",
      "input_1 (InputLayer)            [(None, 48, 48, 3)]  0                                            \n",
      "__________________________________________________________________________________________________\n",
      "conv2d (Conv2D)                 (None, 48, 48, 32)   896         input_1[0][0]                    \n",
      "__________________________________________________________________________________________________\n",
      "dropout (Dropout)               (None, 48, 48, 32)   0           conv2d[0][0]                     \n",
      "__________________________________________________________________________________________________\n",
      "activation (Activation)         (None, 48, 48, 32)   0           dropout[0][0]                    \n",
      "__________________________________________________________________________________________________\n",
      "max_pooling2d (MaxPooling2D)    (None, 24, 24, 32)   0           activation[0][0]                 \n",
      "__________________________________________________________________________________________________\n",
      "conv2d_1 (Conv2D)               (None, 24, 24, 64)   18496       max_pooling2d[0][0]              \n",
      "__________________________________________________________________________________________________\n",
      "dropout_1 (Dropout)             (None, 24, 24, 64)   0           conv2d_1[0][0]                   \n",
      "__________________________________________________________________________________________________\n",
      "activation_1 (Activation)       (None, 24, 24, 64)   0           dropout_1[0][0]                  \n",
      "__________________________________________________________________________________________________\n",
      "max_pooling2d_1 (MaxPooling2D)  (None, 12, 12, 64)   0           activation_1[0][0]               \n",
      "__________________________________________________________________________________________________\n",
      "conv2d_2 (Conv2D)               (None, 12, 12, 128)  73856       max_pooling2d_1[0][0]            \n",
      "__________________________________________________________________________________________________\n",
      "dropout_2 (Dropout)             (None, 12, 12, 128)  0           conv2d_2[0][0]                   \n",
      "__________________________________________________________________________________________________\n",
      "activation_2 (Activation)       (None, 12, 12, 128)  0           dropout_2[0][0]                  \n",
      "__________________________________________________________________________________________________\n",
      "max_pooling2d_2 (MaxPooling2D)  (None, 6, 6, 128)    0           activation_2[0][0]               \n",
      "__________________________________________________________________________________________________\n",
      "conv2d_3 (Conv2D)               (None, 6, 6, 256)    295168      max_pooling2d_2[0][0]            \n",
      "__________________________________________________________________________________________________\n",
      "dropout_3 (Dropout)             (None, 6, 6, 256)    0           conv2d_3[0][0]                   \n",
      "__________________________________________________________________________________________________\n",
      "activation_3 (Activation)       (None, 6, 6, 256)    0           dropout_3[0][0]                  \n",
      "__________________________________________________________________________________________________\n",
      "max_pooling2d_3 (MaxPooling2D)  (None, 3, 3, 256)    0           activation_3[0][0]               \n",
      "__________________________________________________________________________________________________\n",
      "flatten (Flatten)               (None, 2304)         0           max_pooling2d_3[0][0]            \n",
      "__________________________________________________________________________________________________\n",
      "dense (Dense)                   (None, 64)           147520      flatten[0][0]                    \n",
      "__________________________________________________________________________________________________\n",
      "dense_1 (Dense)                 (None, 64)           147520      flatten[0][0]                    \n",
      "__________________________________________________________________________________________________\n",
      "dropout_4 (Dropout)             (None, 64)           0           dense[0][0]                      \n",
      "__________________________________________________________________________________________________\n",
      "dropout_5 (Dropout)             (None, 64)           0           dense_1[0][0]                    \n",
      "__________________________________________________________________________________________________\n",
      "sex_out (Dense)                 (None, 1)            65          dropout_4[0][0]                  \n",
      "__________________________________________________________________________________________________\n",
      "age_out (Dense)                 (None, 1)            65          dropout_5[0][0]                  \n",
      "==================================================================================================\n",
      "Total params: 683,586\n",
      "Trainable params: 683,586\n",
      "Non-trainable params: 0\n",
      "__________________________________________________________________________________________________\n"
     ]
    }
   ],
   "source": [
    "Model.summary()"
   ]
  },
  {
   "cell_type": "code",
   "execution_count": 49,
   "metadata": {},
   "outputs": [],
   "source": [
    "from tensorflow.keras.callbacks import ModelCheckpoint"
   ]
  },
  {
   "source": [
    "## Initializing the model"
   ],
   "cell_type": "markdown",
   "metadata": {}
  },
  {
   "cell_type": "code",
   "execution_count": 50,
   "metadata": {},
   "outputs": [],
   "source": [
    "fle_s='Age_Sex_Detection.h5'\n",
    "checkpoint=ModelCheckpoint(fle_s,monitor='val_loss',verbose=1,save_best_only=True,save_weights_only=False,mode='auto',save_freq='epoch')\n",
    "Early_stop=tf.keras.callbacks.EarlyStopping(patience=75,monitor='val_loss',restore_best_weights='True')\n",
    "callback_list=[checkpoint,Early_stop]"
   ]
  },
  {
   "source": [
    "## Running the model"
   ],
   "cell_type": "markdown",
   "metadata": {}
  },
  {
   "cell_type": "code",
   "execution_count": 51,
   "metadata": {},
   "outputs": [
    {
     "output_type": "stream",
     "name": "stdout",
     "text": [
      "Epoch 1/250\n"
     ]
    },
    {
     "output_type": "error",
     "ename": "TypeError",
     "evalue": "in user code:\n\n    C:\\Users\\Reshma R\\AppData\\Local\\Programs\\Python\\Python39\\lib\\site-packages\\tensorflow\\python\\keras\\engine\\training.py:855 train_function  *\n        return step_function(self, iterator)\n    C:\\Users\\Reshma R\\AppData\\Local\\Programs\\Python\\Python39\\lib\\site-packages\\tensorflow\\python\\keras\\engine\\training.py:845 step_function  **\n        outputs = model.distribute_strategy.run(run_step, args=(data,))\n    C:\\Users\\Reshma R\\AppData\\Local\\Programs\\Python\\Python39\\lib\\site-packages\\tensorflow\\python\\distribute\\distribute_lib.py:1285 run\n        return self._extended.call_for_each_replica(fn, args=args, kwargs=kwargs)\n    C:\\Users\\Reshma R\\AppData\\Local\\Programs\\Python\\Python39\\lib\\site-packages\\tensorflow\\python\\distribute\\distribute_lib.py:2833 call_for_each_replica\n        return self._call_for_each_replica(fn, args, kwargs)\n    C:\\Users\\Reshma R\\AppData\\Local\\Programs\\Python\\Python39\\lib\\site-packages\\tensorflow\\python\\distribute\\distribute_lib.py:3608 _call_for_each_replica\n        return fn(*args, **kwargs)\n    C:\\Users\\Reshma R\\AppData\\Local\\Programs\\Python\\Python39\\lib\\site-packages\\tensorflow\\python\\keras\\engine\\training.py:838 run_step  **\n        outputs = model.train_step(data)\n    C:\\Users\\Reshma R\\AppData\\Local\\Programs\\Python\\Python39\\lib\\site-packages\\tensorflow\\python\\keras\\engine\\training.py:795 train_step\n        y_pred = self(x, training=True)\n    C:\\Users\\Reshma R\\AppData\\Local\\Programs\\Python\\Python39\\lib\\site-packages\\tensorflow\\python\\keras\\engine\\base_layer.py:1030 __call__\n        outputs = call_fn(inputs, *args, **kwargs)\n    C:\\Users\\Reshma R\\AppData\\Local\\Programs\\Python\\Python39\\lib\\site-packages\\tensorflow\\python\\keras\\engine\\functional.py:420 call\n        return self._run_internal_graph(\n    C:\\Users\\Reshma R\\AppData\\Local\\Programs\\Python\\Python39\\lib\\site-packages\\tensorflow\\python\\keras\\engine\\functional.py:556 _run_internal_graph\n        outputs = node.layer(*args, **kwargs)\n    C:\\Users\\Reshma R\\AppData\\Local\\Programs\\Python\\Python39\\lib\\site-packages\\tensorflow\\python\\keras\\engine\\base_layer.py:1030 __call__\n        outputs = call_fn(inputs, *args, **kwargs)\n    C:\\Users\\Reshma R\\AppData\\Local\\Programs\\Python\\Python39\\lib\\site-packages\\tensorflow\\python\\keras\\layers\\core.py:230 call\n        output = control_flow_util.smart_cond(training, dropped_inputs,\n    C:\\Users\\Reshma R\\AppData\\Local\\Programs\\Python\\Python39\\lib\\site-packages\\tensorflow\\python\\keras\\utils\\control_flow_util.py:109 smart_cond\n        return smart_module.smart_cond(\n    C:\\Users\\Reshma R\\AppData\\Local\\Programs\\Python\\Python39\\lib\\site-packages\\tensorflow\\python\\framework\\smart_cond.py:54 smart_cond\n        return true_fn()\n    C:\\Users\\Reshma R\\AppData\\Local\\Programs\\Python\\Python39\\lib\\site-packages\\tensorflow\\python\\keras\\layers\\core.py:226 dropped_inputs\n        noise_shape=self._get_noise_shape(inputs),\n    C:\\Users\\Reshma R\\AppData\\Local\\Programs\\Python\\Python39\\lib\\site-packages\\tensorflow\\python\\keras\\layers\\core.py:215 _get_noise_shape\n        for i, value in enumerate(self.noise_shape):\n\n    TypeError: 'int' object is not iterable\n",
     "traceback": [
      "\u001b[1;31m---------------------------------------------------------------------------\u001b[0m",
      "\u001b[1;31mTypeError\u001b[0m                                 Traceback (most recent call last)",
      "\u001b[1;32m<ipython-input-51-ea45c3815c19>\u001b[0m in \u001b[0;36m<module>\u001b[1;34m\u001b[0m\n\u001b[1;32m----> 1\u001b[1;33m \u001b[0mHistory\u001b[0m\u001b[1;33m=\u001b[0m\u001b[0mModel\u001b[0m\u001b[1;33m.\u001b[0m\u001b[0mfit\u001b[0m\u001b[1;33m(\u001b[0m\u001b[0mX_train\u001b[0m\u001b[1;33m,\u001b[0m\u001b[0mY_train_2\u001b[0m\u001b[1;33m,\u001b[0m\u001b[0mbatch_size\u001b[0m\u001b[1;33m=\u001b[0m\u001b[1;36m64\u001b[0m\u001b[1;33m,\u001b[0m\u001b[0mvalidation_data\u001b[0m\u001b[1;33m=\u001b[0m\u001b[1;33m(\u001b[0m\u001b[0mX_test\u001b[0m\u001b[1;33m,\u001b[0m\u001b[0mY_test_2\u001b[0m\u001b[1;33m)\u001b[0m\u001b[1;33m,\u001b[0m\u001b[0mepochs\u001b[0m\u001b[1;33m=\u001b[0m\u001b[1;36m250\u001b[0m\u001b[1;33m,\u001b[0m\u001b[0mcallbacks\u001b[0m\u001b[1;33m=\u001b[0m\u001b[0mcallback_list\u001b[0m\u001b[1;33m)\u001b[0m\u001b[1;33m\u001b[0m\u001b[1;33m\u001b[0m\u001b[0m\n\u001b[0m",
      "\u001b[1;32m~\\AppData\\Local\\Programs\\Python\\Python39\\lib\\site-packages\\tensorflow\\python\\keras\\engine\\training.py\u001b[0m in \u001b[0;36mfit\u001b[1;34m(self, x, y, batch_size, epochs, verbose, callbacks, validation_split, validation_data, shuffle, class_weight, sample_weight, initial_epoch, steps_per_epoch, validation_steps, validation_batch_size, validation_freq, max_queue_size, workers, use_multiprocessing)\u001b[0m\n\u001b[0;32m   1181\u001b[0m                 _r=1):\n\u001b[0;32m   1182\u001b[0m               \u001b[0mcallbacks\u001b[0m\u001b[1;33m.\u001b[0m\u001b[0mon_train_batch_begin\u001b[0m\u001b[1;33m(\u001b[0m\u001b[0mstep\u001b[0m\u001b[1;33m)\u001b[0m\u001b[1;33m\u001b[0m\u001b[1;33m\u001b[0m\u001b[0m\n\u001b[1;32m-> 1183\u001b[1;33m               \u001b[0mtmp_logs\u001b[0m \u001b[1;33m=\u001b[0m \u001b[0mself\u001b[0m\u001b[1;33m.\u001b[0m\u001b[0mtrain_function\u001b[0m\u001b[1;33m(\u001b[0m\u001b[0miterator\u001b[0m\u001b[1;33m)\u001b[0m\u001b[1;33m\u001b[0m\u001b[1;33m\u001b[0m\u001b[0m\n\u001b[0m\u001b[0;32m   1184\u001b[0m               \u001b[1;32mif\u001b[0m \u001b[0mdata_handler\u001b[0m\u001b[1;33m.\u001b[0m\u001b[0mshould_sync\u001b[0m\u001b[1;33m:\u001b[0m\u001b[1;33m\u001b[0m\u001b[1;33m\u001b[0m\u001b[0m\n\u001b[0;32m   1185\u001b[0m                 \u001b[0mcontext\u001b[0m\u001b[1;33m.\u001b[0m\u001b[0masync_wait\u001b[0m\u001b[1;33m(\u001b[0m\u001b[1;33m)\u001b[0m\u001b[1;33m\u001b[0m\u001b[1;33m\u001b[0m\u001b[0m\n",
      "\u001b[1;32m~\\AppData\\Local\\Programs\\Python\\Python39\\lib\\site-packages\\tensorflow\\python\\eager\\def_function.py\u001b[0m in \u001b[0;36m__call__\u001b[1;34m(self, *args, **kwds)\u001b[0m\n\u001b[0;32m    887\u001b[0m \u001b[1;33m\u001b[0m\u001b[0m\n\u001b[0;32m    888\u001b[0m       \u001b[1;32mwith\u001b[0m \u001b[0mOptionalXlaContext\u001b[0m\u001b[1;33m(\u001b[0m\u001b[0mself\u001b[0m\u001b[1;33m.\u001b[0m\u001b[0m_jit_compile\u001b[0m\u001b[1;33m)\u001b[0m\u001b[1;33m:\u001b[0m\u001b[1;33m\u001b[0m\u001b[1;33m\u001b[0m\u001b[0m\n\u001b[1;32m--> 889\u001b[1;33m         \u001b[0mresult\u001b[0m \u001b[1;33m=\u001b[0m \u001b[0mself\u001b[0m\u001b[1;33m.\u001b[0m\u001b[0m_call\u001b[0m\u001b[1;33m(\u001b[0m\u001b[1;33m*\u001b[0m\u001b[0margs\u001b[0m\u001b[1;33m,\u001b[0m \u001b[1;33m**\u001b[0m\u001b[0mkwds\u001b[0m\u001b[1;33m)\u001b[0m\u001b[1;33m\u001b[0m\u001b[1;33m\u001b[0m\u001b[0m\n\u001b[0m\u001b[0;32m    890\u001b[0m \u001b[1;33m\u001b[0m\u001b[0m\n\u001b[0;32m    891\u001b[0m       \u001b[0mnew_tracing_count\u001b[0m \u001b[1;33m=\u001b[0m \u001b[0mself\u001b[0m\u001b[1;33m.\u001b[0m\u001b[0mexperimental_get_tracing_count\u001b[0m\u001b[1;33m(\u001b[0m\u001b[1;33m)\u001b[0m\u001b[1;33m\u001b[0m\u001b[1;33m\u001b[0m\u001b[0m\n",
      "\u001b[1;32m~\\AppData\\Local\\Programs\\Python\\Python39\\lib\\site-packages\\tensorflow\\python\\eager\\def_function.py\u001b[0m in \u001b[0;36m_call\u001b[1;34m(self, *args, **kwds)\u001b[0m\n\u001b[0;32m    931\u001b[0m       \u001b[1;31m# This is the first call of __call__, so we have to initialize.\u001b[0m\u001b[1;33m\u001b[0m\u001b[1;33m\u001b[0m\u001b[1;33m\u001b[0m\u001b[0m\n\u001b[0;32m    932\u001b[0m       \u001b[0minitializers\u001b[0m \u001b[1;33m=\u001b[0m \u001b[1;33m[\u001b[0m\u001b[1;33m]\u001b[0m\u001b[1;33m\u001b[0m\u001b[1;33m\u001b[0m\u001b[0m\n\u001b[1;32m--> 933\u001b[1;33m       \u001b[0mself\u001b[0m\u001b[1;33m.\u001b[0m\u001b[0m_initialize\u001b[0m\u001b[1;33m(\u001b[0m\u001b[0margs\u001b[0m\u001b[1;33m,\u001b[0m \u001b[0mkwds\u001b[0m\u001b[1;33m,\u001b[0m \u001b[0madd_initializers_to\u001b[0m\u001b[1;33m=\u001b[0m\u001b[0minitializers\u001b[0m\u001b[1;33m)\u001b[0m\u001b[1;33m\u001b[0m\u001b[1;33m\u001b[0m\u001b[0m\n\u001b[0m\u001b[0;32m    934\u001b[0m     \u001b[1;32mfinally\u001b[0m\u001b[1;33m:\u001b[0m\u001b[1;33m\u001b[0m\u001b[1;33m\u001b[0m\u001b[0m\n\u001b[0;32m    935\u001b[0m       \u001b[1;31m# At this point we know that the initialization is complete (or less\u001b[0m\u001b[1;33m\u001b[0m\u001b[1;33m\u001b[0m\u001b[1;33m\u001b[0m\u001b[0m\n",
      "\u001b[1;32m~\\AppData\\Local\\Programs\\Python\\Python39\\lib\\site-packages\\tensorflow\\python\\eager\\def_function.py\u001b[0m in \u001b[0;36m_initialize\u001b[1;34m(self, args, kwds, add_initializers_to)\u001b[0m\n\u001b[0;32m    761\u001b[0m     \u001b[0mself\u001b[0m\u001b[1;33m.\u001b[0m\u001b[0m_graph_deleter\u001b[0m \u001b[1;33m=\u001b[0m \u001b[0mFunctionDeleter\u001b[0m\u001b[1;33m(\u001b[0m\u001b[0mself\u001b[0m\u001b[1;33m.\u001b[0m\u001b[0m_lifted_initializer_graph\u001b[0m\u001b[1;33m)\u001b[0m\u001b[1;33m\u001b[0m\u001b[1;33m\u001b[0m\u001b[0m\n\u001b[0;32m    762\u001b[0m     self._concrete_stateful_fn = (\n\u001b[1;32m--> 763\u001b[1;33m         self._stateful_fn._get_concrete_function_internal_garbage_collected(  # pylint: disable=protected-access\n\u001b[0m\u001b[0;32m    764\u001b[0m             *args, **kwds))\n\u001b[0;32m    765\u001b[0m \u001b[1;33m\u001b[0m\u001b[0m\n",
      "\u001b[1;32m~\\AppData\\Local\\Programs\\Python\\Python39\\lib\\site-packages\\tensorflow\\python\\eager\\function.py\u001b[0m in \u001b[0;36m_get_concrete_function_internal_garbage_collected\u001b[1;34m(self, *args, **kwargs)\u001b[0m\n\u001b[0;32m   3048\u001b[0m       \u001b[0margs\u001b[0m\u001b[1;33m,\u001b[0m \u001b[0mkwargs\u001b[0m \u001b[1;33m=\u001b[0m \u001b[1;32mNone\u001b[0m\u001b[1;33m,\u001b[0m \u001b[1;32mNone\u001b[0m\u001b[1;33m\u001b[0m\u001b[1;33m\u001b[0m\u001b[0m\n\u001b[0;32m   3049\u001b[0m     \u001b[1;32mwith\u001b[0m \u001b[0mself\u001b[0m\u001b[1;33m.\u001b[0m\u001b[0m_lock\u001b[0m\u001b[1;33m:\u001b[0m\u001b[1;33m\u001b[0m\u001b[1;33m\u001b[0m\u001b[0m\n\u001b[1;32m-> 3050\u001b[1;33m       \u001b[0mgraph_function\u001b[0m\u001b[1;33m,\u001b[0m \u001b[0m_\u001b[0m \u001b[1;33m=\u001b[0m \u001b[0mself\u001b[0m\u001b[1;33m.\u001b[0m\u001b[0m_maybe_define_function\u001b[0m\u001b[1;33m(\u001b[0m\u001b[0margs\u001b[0m\u001b[1;33m,\u001b[0m \u001b[0mkwargs\u001b[0m\u001b[1;33m)\u001b[0m\u001b[1;33m\u001b[0m\u001b[1;33m\u001b[0m\u001b[0m\n\u001b[0m\u001b[0;32m   3051\u001b[0m     \u001b[1;32mreturn\u001b[0m \u001b[0mgraph_function\u001b[0m\u001b[1;33m\u001b[0m\u001b[1;33m\u001b[0m\u001b[0m\n\u001b[0;32m   3052\u001b[0m \u001b[1;33m\u001b[0m\u001b[0m\n",
      "\u001b[1;32m~\\AppData\\Local\\Programs\\Python\\Python39\\lib\\site-packages\\tensorflow\\python\\eager\\function.py\u001b[0m in \u001b[0;36m_maybe_define_function\u001b[1;34m(self, args, kwargs)\u001b[0m\n\u001b[0;32m   3442\u001b[0m \u001b[1;33m\u001b[0m\u001b[0m\n\u001b[0;32m   3443\u001b[0m           \u001b[0mself\u001b[0m\u001b[1;33m.\u001b[0m\u001b[0m_function_cache\u001b[0m\u001b[1;33m.\u001b[0m\u001b[0mmissed\u001b[0m\u001b[1;33m.\u001b[0m\u001b[0madd\u001b[0m\u001b[1;33m(\u001b[0m\u001b[0mcall_context_key\u001b[0m\u001b[1;33m)\u001b[0m\u001b[1;33m\u001b[0m\u001b[1;33m\u001b[0m\u001b[0m\n\u001b[1;32m-> 3444\u001b[1;33m           \u001b[0mgraph_function\u001b[0m \u001b[1;33m=\u001b[0m \u001b[0mself\u001b[0m\u001b[1;33m.\u001b[0m\u001b[0m_create_graph_function\u001b[0m\u001b[1;33m(\u001b[0m\u001b[0margs\u001b[0m\u001b[1;33m,\u001b[0m \u001b[0mkwargs\u001b[0m\u001b[1;33m)\u001b[0m\u001b[1;33m\u001b[0m\u001b[1;33m\u001b[0m\u001b[0m\n\u001b[0m\u001b[0;32m   3445\u001b[0m           \u001b[0mself\u001b[0m\u001b[1;33m.\u001b[0m\u001b[0m_function_cache\u001b[0m\u001b[1;33m.\u001b[0m\u001b[0mprimary\u001b[0m\u001b[1;33m[\u001b[0m\u001b[0mcache_key\u001b[0m\u001b[1;33m]\u001b[0m \u001b[1;33m=\u001b[0m \u001b[0mgraph_function\u001b[0m\u001b[1;33m\u001b[0m\u001b[1;33m\u001b[0m\u001b[0m\n\u001b[0;32m   3446\u001b[0m \u001b[1;33m\u001b[0m\u001b[0m\n",
      "\u001b[1;32m~\\AppData\\Local\\Programs\\Python\\Python39\\lib\\site-packages\\tensorflow\\python\\eager\\function.py\u001b[0m in \u001b[0;36m_create_graph_function\u001b[1;34m(self, args, kwargs, override_flat_arg_shapes)\u001b[0m\n\u001b[0;32m   3277\u001b[0m     \u001b[0marg_names\u001b[0m \u001b[1;33m=\u001b[0m \u001b[0mbase_arg_names\u001b[0m \u001b[1;33m+\u001b[0m \u001b[0mmissing_arg_names\u001b[0m\u001b[1;33m\u001b[0m\u001b[1;33m\u001b[0m\u001b[0m\n\u001b[0;32m   3278\u001b[0m     graph_function = ConcreteFunction(\n\u001b[1;32m-> 3279\u001b[1;33m         func_graph_module.func_graph_from_py_func(\n\u001b[0m\u001b[0;32m   3280\u001b[0m             \u001b[0mself\u001b[0m\u001b[1;33m.\u001b[0m\u001b[0m_name\u001b[0m\u001b[1;33m,\u001b[0m\u001b[1;33m\u001b[0m\u001b[1;33m\u001b[0m\u001b[0m\n\u001b[0;32m   3281\u001b[0m             \u001b[0mself\u001b[0m\u001b[1;33m.\u001b[0m\u001b[0m_python_function\u001b[0m\u001b[1;33m,\u001b[0m\u001b[1;33m\u001b[0m\u001b[1;33m\u001b[0m\u001b[0m\n",
      "\u001b[1;32m~\\AppData\\Local\\Programs\\Python\\Python39\\lib\\site-packages\\tensorflow\\python\\framework\\func_graph.py\u001b[0m in \u001b[0;36mfunc_graph_from_py_func\u001b[1;34m(name, python_func, args, kwargs, signature, func_graph, autograph, autograph_options, add_control_dependencies, arg_names, op_return_value, collections, capture_by_value, override_flat_arg_shapes)\u001b[0m\n\u001b[0;32m    997\u001b[0m         \u001b[0m_\u001b[0m\u001b[1;33m,\u001b[0m \u001b[0moriginal_func\u001b[0m \u001b[1;33m=\u001b[0m \u001b[0mtf_decorator\u001b[0m\u001b[1;33m.\u001b[0m\u001b[0munwrap\u001b[0m\u001b[1;33m(\u001b[0m\u001b[0mpython_func\u001b[0m\u001b[1;33m)\u001b[0m\u001b[1;33m\u001b[0m\u001b[1;33m\u001b[0m\u001b[0m\n\u001b[0;32m    998\u001b[0m \u001b[1;33m\u001b[0m\u001b[0m\n\u001b[1;32m--> 999\u001b[1;33m       \u001b[0mfunc_outputs\u001b[0m \u001b[1;33m=\u001b[0m \u001b[0mpython_func\u001b[0m\u001b[1;33m(\u001b[0m\u001b[1;33m*\u001b[0m\u001b[0mfunc_args\u001b[0m\u001b[1;33m,\u001b[0m \u001b[1;33m**\u001b[0m\u001b[0mfunc_kwargs\u001b[0m\u001b[1;33m)\u001b[0m\u001b[1;33m\u001b[0m\u001b[1;33m\u001b[0m\u001b[0m\n\u001b[0m\u001b[0;32m   1000\u001b[0m \u001b[1;33m\u001b[0m\u001b[0m\n\u001b[0;32m   1001\u001b[0m       \u001b[1;31m# invariant: `func_outputs` contains only Tensors, CompositeTensors,\u001b[0m\u001b[1;33m\u001b[0m\u001b[1;33m\u001b[0m\u001b[1;33m\u001b[0m\u001b[0m\n",
      "\u001b[1;32m~\\AppData\\Local\\Programs\\Python\\Python39\\lib\\site-packages\\tensorflow\\python\\eager\\def_function.py\u001b[0m in \u001b[0;36mwrapped_fn\u001b[1;34m(*args, **kwds)\u001b[0m\n\u001b[0;32m    670\u001b[0m         \u001b[1;31m# the function a weak reference to itself to avoid a reference cycle.\u001b[0m\u001b[1;33m\u001b[0m\u001b[1;33m\u001b[0m\u001b[1;33m\u001b[0m\u001b[0m\n\u001b[0;32m    671\u001b[0m         \u001b[1;32mwith\u001b[0m \u001b[0mOptionalXlaContext\u001b[0m\u001b[1;33m(\u001b[0m\u001b[0mcompile_with_xla\u001b[0m\u001b[1;33m)\u001b[0m\u001b[1;33m:\u001b[0m\u001b[1;33m\u001b[0m\u001b[1;33m\u001b[0m\u001b[0m\n\u001b[1;32m--> 672\u001b[1;33m           \u001b[0mout\u001b[0m \u001b[1;33m=\u001b[0m \u001b[0mweak_wrapped_fn\u001b[0m\u001b[1;33m(\u001b[0m\u001b[1;33m)\u001b[0m\u001b[1;33m.\u001b[0m\u001b[0m__wrapped__\u001b[0m\u001b[1;33m(\u001b[0m\u001b[1;33m*\u001b[0m\u001b[0margs\u001b[0m\u001b[1;33m,\u001b[0m \u001b[1;33m**\u001b[0m\u001b[0mkwds\u001b[0m\u001b[1;33m)\u001b[0m\u001b[1;33m\u001b[0m\u001b[1;33m\u001b[0m\u001b[0m\n\u001b[0m\u001b[0;32m    673\u001b[0m         \u001b[1;32mreturn\u001b[0m \u001b[0mout\u001b[0m\u001b[1;33m\u001b[0m\u001b[1;33m\u001b[0m\u001b[0m\n\u001b[0;32m    674\u001b[0m \u001b[1;33m\u001b[0m\u001b[0m\n",
      "\u001b[1;32m~\\AppData\\Local\\Programs\\Python\\Python39\\lib\\site-packages\\tensorflow\\python\\framework\\func_graph.py\u001b[0m in \u001b[0;36mwrapper\u001b[1;34m(*args, **kwargs)\u001b[0m\n\u001b[0;32m    984\u001b[0m           \u001b[1;32mexcept\u001b[0m \u001b[0mException\u001b[0m \u001b[1;32mas\u001b[0m \u001b[0me\u001b[0m\u001b[1;33m:\u001b[0m  \u001b[1;31m# pylint:disable=broad-except\u001b[0m\u001b[1;33m\u001b[0m\u001b[1;33m\u001b[0m\u001b[0m\n\u001b[0;32m    985\u001b[0m             \u001b[1;32mif\u001b[0m \u001b[0mhasattr\u001b[0m\u001b[1;33m(\u001b[0m\u001b[0me\u001b[0m\u001b[1;33m,\u001b[0m \u001b[1;34m\"ag_error_metadata\"\u001b[0m\u001b[1;33m)\u001b[0m\u001b[1;33m:\u001b[0m\u001b[1;33m\u001b[0m\u001b[1;33m\u001b[0m\u001b[0m\n\u001b[1;32m--> 986\u001b[1;33m               \u001b[1;32mraise\u001b[0m \u001b[0me\u001b[0m\u001b[1;33m.\u001b[0m\u001b[0mag_error_metadata\u001b[0m\u001b[1;33m.\u001b[0m\u001b[0mto_exception\u001b[0m\u001b[1;33m(\u001b[0m\u001b[0me\u001b[0m\u001b[1;33m)\u001b[0m\u001b[1;33m\u001b[0m\u001b[1;33m\u001b[0m\u001b[0m\n\u001b[0m\u001b[0;32m    987\u001b[0m             \u001b[1;32melse\u001b[0m\u001b[1;33m:\u001b[0m\u001b[1;33m\u001b[0m\u001b[1;33m\u001b[0m\u001b[0m\n\u001b[0;32m    988\u001b[0m               \u001b[1;32mraise\u001b[0m\u001b[1;33m\u001b[0m\u001b[1;33m\u001b[0m\u001b[0m\n",
      "\u001b[1;31mTypeError\u001b[0m: in user code:\n\n    C:\\Users\\Reshma R\\AppData\\Local\\Programs\\Python\\Python39\\lib\\site-packages\\tensorflow\\python\\keras\\engine\\training.py:855 train_function  *\n        return step_function(self, iterator)\n    C:\\Users\\Reshma R\\AppData\\Local\\Programs\\Python\\Python39\\lib\\site-packages\\tensorflow\\python\\keras\\engine\\training.py:845 step_function  **\n        outputs = model.distribute_strategy.run(run_step, args=(data,))\n    C:\\Users\\Reshma R\\AppData\\Local\\Programs\\Python\\Python39\\lib\\site-packages\\tensorflow\\python\\distribute\\distribute_lib.py:1285 run\n        return self._extended.call_for_each_replica(fn, args=args, kwargs=kwargs)\n    C:\\Users\\Reshma R\\AppData\\Local\\Programs\\Python\\Python39\\lib\\site-packages\\tensorflow\\python\\distribute\\distribute_lib.py:2833 call_for_each_replica\n        return self._call_for_each_replica(fn, args, kwargs)\n    C:\\Users\\Reshma R\\AppData\\Local\\Programs\\Python\\Python39\\lib\\site-packages\\tensorflow\\python\\distribute\\distribute_lib.py:3608 _call_for_each_replica\n        return fn(*args, **kwargs)\n    C:\\Users\\Reshma R\\AppData\\Local\\Programs\\Python\\Python39\\lib\\site-packages\\tensorflow\\python\\keras\\engine\\training.py:838 run_step  **\n        outputs = model.train_step(data)\n    C:\\Users\\Reshma R\\AppData\\Local\\Programs\\Python\\Python39\\lib\\site-packages\\tensorflow\\python\\keras\\engine\\training.py:795 train_step\n        y_pred = self(x, training=True)\n    C:\\Users\\Reshma R\\AppData\\Local\\Programs\\Python\\Python39\\lib\\site-packages\\tensorflow\\python\\keras\\engine\\base_layer.py:1030 __call__\n        outputs = call_fn(inputs, *args, **kwargs)\n    C:\\Users\\Reshma R\\AppData\\Local\\Programs\\Python\\Python39\\lib\\site-packages\\tensorflow\\python\\keras\\engine\\functional.py:420 call\n        return self._run_internal_graph(\n    C:\\Users\\Reshma R\\AppData\\Local\\Programs\\Python\\Python39\\lib\\site-packages\\tensorflow\\python\\keras\\engine\\functional.py:556 _run_internal_graph\n        outputs = node.layer(*args, **kwargs)\n    C:\\Users\\Reshma R\\AppData\\Local\\Programs\\Python\\Python39\\lib\\site-packages\\tensorflow\\python\\keras\\engine\\base_layer.py:1030 __call__\n        outputs = call_fn(inputs, *args, **kwargs)\n    C:\\Users\\Reshma R\\AppData\\Local\\Programs\\Python\\Python39\\lib\\site-packages\\tensorflow\\python\\keras\\layers\\core.py:230 call\n        output = control_flow_util.smart_cond(training, dropped_inputs,\n    C:\\Users\\Reshma R\\AppData\\Local\\Programs\\Python\\Python39\\lib\\site-packages\\tensorflow\\python\\keras\\utils\\control_flow_util.py:109 smart_cond\n        return smart_module.smart_cond(\n    C:\\Users\\Reshma R\\AppData\\Local\\Programs\\Python\\Python39\\lib\\site-packages\\tensorflow\\python\\framework\\smart_cond.py:54 smart_cond\n        return true_fn()\n    C:\\Users\\Reshma R\\AppData\\Local\\Programs\\Python\\Python39\\lib\\site-packages\\tensorflow\\python\\keras\\layers\\core.py:226 dropped_inputs\n        noise_shape=self._get_noise_shape(inputs),\n    C:\\Users\\Reshma R\\AppData\\Local\\Programs\\Python\\Python39\\lib\\site-packages\\tensorflow\\python\\keras\\layers\\core.py:215 _get_noise_shape\n        for i, value in enumerate(self.noise_shape):\n\n    TypeError: 'int' object is not iterable\n"
     ]
    }
   ],
   "source": [
    "History=Model.fit(X_train,Y_train_2,batch_size=64,validation_data=(X_test,Y_test_2),epochs=250,callbacks=callback_list)"
   ]
  },
  {
   "source": [
    "## model evaluation"
   ],
   "cell_type": "markdown",
   "metadata": {}
  },
  {
   "cell_type": "code",
   "execution_count": 62,
   "metadata": {},
   "outputs": [
    {
     "output_type": "stream",
     "name": "stdout",
     "text": [
      "186/186 [==============================] - 40s 50ms/step - loss: 34.4748 - sex_out_loss: 0.6932 - age_out_loss: 33.4768 - sex_out_accuracy: 0.5215 - age_out_accuracy: 0.0000e+00\n"
     ]
    },
    {
     "output_type": "execute_result",
     "data": {
      "text/plain": [
       "[34.474822998046875,\n",
       " 0.6932011842727661,\n",
       " 33.476802825927734,\n",
       " 0.5215117335319519,\n",
       " 0.0]"
      ]
     },
     "metadata": {},
     "execution_count": 62
    }
   ],
   "source": [
    "Model.evaluate(X_test,Y_test_2)"
   ]
  },
  {
   "cell_type": "code",
   "execution_count": 63,
   "metadata": {},
   "outputs": [],
   "source": [
    "pred=Model.predict(X_test)\n"
   ]
  },
  {
   "cell_type": "code",
   "execution_count": 64,
   "metadata": {},
   "outputs": [
    {
     "output_type": "execute_result",
     "data": {
      "text/plain": [
       "array([[0.],\n",
       "       [0.],\n",
       "       [0.],\n",
       "       ...,\n",
       "       [0.],\n",
       "       [0.],\n",
       "       [0.]], dtype=float32)"
      ]
     },
     "metadata": {},
     "execution_count": 64
    }
   ],
   "source": [
    "pred[1]"
   ]
  },
  {
   "source": [
    "## plotting loss"
   ],
   "cell_type": "markdown",
   "metadata": {}
  },
  {
   "cell_type": "code",
   "execution_count": 1,
   "metadata": {},
   "outputs": [
    {
     "output_type": "error",
     "ename": "NameError",
     "evalue": "name 'plt' is not defined",
     "traceback": [
      "\u001b[1;31m---------------------------------------------------------------------------\u001b[0m",
      "\u001b[1;31mNameError\u001b[0m                                 Traceback (most recent call last)",
      "\u001b[1;32m<ipython-input-1-53ca2a38ab35>\u001b[0m in \u001b[0;36m<module>\u001b[1;34m\u001b[0m\n\u001b[1;32m----> 1\u001b[1;33m \u001b[0mplt\u001b[0m\u001b[1;33m.\u001b[0m\u001b[0mplot\u001b[0m\u001b[1;33m(\u001b[0m\u001b[0mHistory\u001b[0m\u001b[1;33m.\u001b[0m\u001b[0mhistory\u001b[0m\u001b[1;33m[\u001b[0m\u001b[1;34m'loss'\u001b[0m\u001b[1;33m]\u001b[0m\u001b[1;33m)\u001b[0m\u001b[1;33m\u001b[0m\u001b[1;33m\u001b[0m\u001b[0m\n\u001b[0m\u001b[0;32m      2\u001b[0m \u001b[0mplt\u001b[0m\u001b[1;33m.\u001b[0m\u001b[0mplot\u001b[0m\u001b[1;33m(\u001b[0m\u001b[0mHistory\u001b[0m\u001b[1;33m.\u001b[0m\u001b[0mhistory\u001b[0m\u001b[1;33m[\u001b[0m\u001b[1;34m'val_loss'\u001b[0m\u001b[1;33m]\u001b[0m\u001b[1;33m)\u001b[0m\u001b[1;33m\u001b[0m\u001b[1;33m\u001b[0m\u001b[0m\n\u001b[0;32m      3\u001b[0m \u001b[0mplt\u001b[0m\u001b[1;33m.\u001b[0m\u001b[0mtitle\u001b[0m\u001b[1;33m(\u001b[0m\u001b[1;34m'Model loss'\u001b[0m\u001b[1;33m)\u001b[0m\u001b[1;33m\u001b[0m\u001b[1;33m\u001b[0m\u001b[0m\n\u001b[0;32m      4\u001b[0m \u001b[0mplt\u001b[0m\u001b[1;33m.\u001b[0m\u001b[0mxlabel\u001b[0m\u001b[1;33m=\u001b[0m\u001b[1;33m(\u001b[0m\u001b[1;34m'Epoch'\u001b[0m\u001b[1;33m)\u001b[0m\u001b[1;33m\u001b[0m\u001b[1;33m\u001b[0m\u001b[0m\n\u001b[0;32m      5\u001b[0m \u001b[0mplt\u001b[0m\u001b[1;33m.\u001b[0m\u001b[0mylabel\u001b[0m\u001b[1;33m=\u001b[0m\u001b[1;33m(\u001b[0m\u001b[1;34m'Loss'\u001b[0m\u001b[1;33m)\u001b[0m\u001b[1;33m\u001b[0m\u001b[1;33m\u001b[0m\u001b[0m\n",
      "\u001b[1;31mNameError\u001b[0m: name 'plt' is not defined"
     ]
    }
   ],
   "source": [
    "plt.plot(History.history['loss'])\n",
    "plt.plot(History.history['val_loss'])\n",
    "plt.title('Model loss')\n",
    "plt.xlabel=('Epoch')\n",
    "plt.ylabel=('Loss')\n",
    "plt.legend(['Train','Validation'],loc='upper left')\n",
    "plt.subplots_adjust(top=1.0,bottom=0.0,right=0.95,left=0,hspace=0.25,wspace=0.35)"
   ]
  },
  {
   "source": [
    "## plotting sex accuracy"
   ],
   "cell_type": "markdown",
   "metadata": {}
  },
  {
   "cell_type": "code",
   "execution_count": 2,
   "metadata": {},
   "outputs": [
    {
     "output_type": "error",
     "ename": "NameError",
     "evalue": "name 'plt' is not defined",
     "traceback": [
      "\u001b[1;31m---------------------------------------------------------------------------\u001b[0m",
      "\u001b[1;31mNameError\u001b[0m                                 Traceback (most recent call last)",
      "\u001b[1;32m<ipython-input-2-b428db6bfb98>\u001b[0m in \u001b[0;36m<module>\u001b[1;34m\u001b[0m\n\u001b[1;32m----> 1\u001b[1;33m \u001b[0mplt\u001b[0m\u001b[1;33m.\u001b[0m\u001b[0mplot\u001b[0m\u001b[1;33m(\u001b[0m\u001b[0mHistory\u001b[0m\u001b[1;33m.\u001b[0m\u001b[0mhistory\u001b[0m\u001b[1;33m[\u001b[0m\u001b[1;34m'sex_output_accuracy'\u001b[0m\u001b[1;33m]\u001b[0m\u001b[1;33m)\u001b[0m\u001b[1;33m\u001b[0m\u001b[1;33m\u001b[0m\u001b[0m\n\u001b[0m\u001b[0;32m      2\u001b[0m \u001b[0mplt\u001b[0m\u001b[1;33m.\u001b[0m\u001b[0mplot\u001b[0m\u001b[1;33m(\u001b[0m\u001b[0mHistory\u001b[0m\u001b[1;33m.\u001b[0m\u001b[0mhistory\u001b[0m\u001b[1;33m[\u001b[0m\u001b[1;34m'val_sex_output_accuracy'\u001b[0m\u001b[1;33m]\u001b[0m\u001b[1;33m)\u001b[0m\u001b[1;33m\u001b[0m\u001b[1;33m\u001b[0m\u001b[0m\n\u001b[0;32m      3\u001b[0m \u001b[0mplt\u001b[0m\u001b[1;33m.\u001b[0m\u001b[0mtitle\u001b[0m\u001b[1;33m(\u001b[0m\u001b[1;34m'Model Accuracy'\u001b[0m\u001b[1;33m)\u001b[0m\u001b[1;33m\u001b[0m\u001b[1;33m\u001b[0m\u001b[0m\n\u001b[0;32m      4\u001b[0m \u001b[0mplt\u001b[0m\u001b[1;33m.\u001b[0m\u001b[0mxlabel\u001b[0m\u001b[1;33m=\u001b[0m\u001b[1;33m(\u001b[0m\u001b[1;34m'Epoch'\u001b[0m\u001b[1;33m)\u001b[0m\u001b[1;33m\u001b[0m\u001b[1;33m\u001b[0m\u001b[0m\n\u001b[0;32m      5\u001b[0m \u001b[0mplt\u001b[0m\u001b[1;33m.\u001b[0m\u001b[0mylabel\u001b[0m\u001b[1;33m=\u001b[0m\u001b[1;33m(\u001b[0m\u001b[1;34m'Accuracy'\u001b[0m\u001b[1;33m)\u001b[0m\u001b[1;33m\u001b[0m\u001b[1;33m\u001b[0m\u001b[0m\n",
      "\u001b[1;31mNameError\u001b[0m: name 'plt' is not defined"
     ]
    }
   ],
   "source": [
    "plt.plot(History.history['sex_out_accuracy'])\n",
    "plt.plot(History.history['val_sex_out_accuracy'])\n",
    "plt.title('Model Accuracy')\n",
    "plt.xlabel=('Epoch')\n",
    "plt.ylabel=('Accuracy')\n",
    "plt.legend(['Train','Validation'],loc='upper left')\n",
    "plt.subplots_adjust(top=1.0,bottom=0.0,right=0.95,left=0,hspace=0.25,wspace=0.35)"
   ]
  },
  {
   "source": [
    "## plotting gender accuracy"
   ],
   "cell_type": "markdown",
   "metadata": {}
  },
  {
   "cell_type": "code",
   "execution_count": 3,
   "metadata": {},
   "outputs": [
    {
     "output_type": "error",
     "ename": "NameError",
     "evalue": "name 'plt' is not defined",
     "traceback": [
      "\u001b[1;31m---------------------------------------------------------------------------\u001b[0m",
      "\u001b[1;31mNameError\u001b[0m                                 Traceback (most recent call last)",
      "\u001b[1;32m<ipython-input-3-7c09462b171d>\u001b[0m in \u001b[0;36m<module>\u001b[1;34m\u001b[0m\n\u001b[1;32m----> 1\u001b[1;33m \u001b[0mfig\u001b[0m\u001b[1;33m,\u001b[0m\u001b[0max\u001b[0m\u001b[1;33m=\u001b[0m\u001b[0mplt\u001b[0m\u001b[1;33m.\u001b[0m\u001b[0msubplots\u001b[0m\u001b[1;33m(\u001b[0m\u001b[1;33m)\u001b[0m\u001b[1;33m\u001b[0m\u001b[1;33m\u001b[0m\u001b[0m\n\u001b[0m\u001b[0;32m      2\u001b[0m \u001b[0max\u001b[0m\u001b[1;33m.\u001b[0m\u001b[0mscatter\u001b[0m\u001b[1;33m(\u001b[0m\u001b[0mY_test_2\u001b[0m\u001b[1;33m[\u001b[0m\u001b[1;36m1\u001b[0m\u001b[1;33m]\u001b[0m\u001b[1;33m,\u001b[0m\u001b[0mpred\u001b[0m\u001b[1;33m[\u001b[0m\u001b[1;36m1\u001b[0m\u001b[1;33m]\u001b[0m\u001b[1;33m)\u001b[0m\u001b[1;33m\u001b[0m\u001b[1;33m\u001b[0m\u001b[0m\n\u001b[0;32m      3\u001b[0m \u001b[0max\u001b[0m\u001b[1;33m.\u001b[0m\u001b[0mplot\u001b[0m\u001b[1;33m(\u001b[0m\u001b[1;33m[\u001b[0m\u001b[0mY_test_2\u001b[0m\u001b[1;33m[\u001b[0m\u001b[1;36m1\u001b[0m\u001b[1;33m]\u001b[0m\u001b[1;33m.\u001b[0m\u001b[0mmin\u001b[0m\u001b[1;33m(\u001b[0m\u001b[1;33m)\u001b[0m\u001b[1;33m,\u001b[0m\u001b[0mY_test_2\u001b[0m\u001b[1;33m[\u001b[0m\u001b[1;36m1\u001b[0m\u001b[1;33m]\u001b[0m\u001b[1;33m.\u001b[0m\u001b[0mmax\u001b[0m\u001b[1;33m(\u001b[0m\u001b[1;33m)\u001b[0m\u001b[1;33m]\u001b[0m\u001b[1;33m,\u001b[0m\u001b[1;33m[\u001b[0m\u001b[0mY_test_2\u001b[0m\u001b[1;33m[\u001b[0m\u001b[1;36m1\u001b[0m\u001b[1;33m]\u001b[0m\u001b[1;33m.\u001b[0m\u001b[0mmin\u001b[0m\u001b[1;33m(\u001b[0m\u001b[1;33m)\u001b[0m\u001b[1;33m,\u001b[0m\u001b[0mY_test_2\u001b[0m\u001b[1;33m[\u001b[0m\u001b[1;36m1\u001b[0m\u001b[1;33m]\u001b[0m\u001b[1;33m.\u001b[0m\u001b[0mmax\u001b[0m\u001b[1;33m(\u001b[0m\u001b[1;33m)\u001b[0m\u001b[1;33m]\u001b[0m\u001b[1;33m,\u001b[0m\u001b[1;34m'k--'\u001b[0m\u001b[1;33m,\u001b[0m\u001b[0mlw\u001b[0m\u001b[1;33m=\u001b[0m\u001b[1;36m4\u001b[0m\u001b[1;33m)\u001b[0m\u001b[1;33m\u001b[0m\u001b[1;33m\u001b[0m\u001b[0m\n\u001b[0;32m      4\u001b[0m \u001b[0max\u001b[0m\u001b[1;33m.\u001b[0m\u001b[0mset_xlabel\u001b[0m\u001b[1;33m(\u001b[0m\u001b[1;34m'Actual Age'\u001b[0m\u001b[1;33m)\u001b[0m\u001b[1;33m\u001b[0m\u001b[1;33m\u001b[0m\u001b[0m\n\u001b[0;32m      5\u001b[0m \u001b[0max\u001b[0m\u001b[1;33m.\u001b[0m\u001b[0mset_ylabel\u001b[0m\u001b[1;33m(\u001b[0m\u001b[1;34m'Predcited Age'\u001b[0m\u001b[1;33m)\u001b[0m\u001b[1;33m\u001b[0m\u001b[1;33m\u001b[0m\u001b[0m\n",
      "\u001b[1;31mNameError\u001b[0m: name 'plt' is not defined"
     ]
    }
   ],
   "source": [
    "fig,ax=plt.subplots()\n",
    "ax.scatter(Y_test_2[1],pred[1])\n",
    "ax.plot([Y_test_2[1].min(),Y_test_2[1].max()],[Y_test_2[1].min(),Y_test_2[1].max()],'k--',lw=4)\n",
    "ax.set_xlabel('Actual Age')\n",
    "ax.set_ylabel('Predicted Age')\n",
    "plt.show()"
   ]
  },
  {
   "source": [
    "## Making report of the model gender only"
   ],
   "cell_type": "markdown",
   "metadata": {}
  },
  {
   "cell_type": "code",
   "execution_count": 6,
   "metadata": {},
   "outputs": [
    {
     "output_type": "error",
     "ename": "NameError",
     "evalue": "name 'pred' is not defined",
     "traceback": [
      "\u001b[1;31m---------------------------------------------------------------------------\u001b[0m",
      "\u001b[1;31mNameError\u001b[0m                                 Traceback (most recent call last)",
      "\u001b[1;32m<ipython-input-6-6eb25e6b9dc9>\u001b[0m in \u001b[0;36m<module>\u001b[1;34m\u001b[0m\n\u001b[0;32m      1\u001b[0m \u001b[0mi\u001b[0m\u001b[1;33m=\u001b[0m\u001b[1;36m0\u001b[0m\u001b[1;33m\u001b[0m\u001b[1;33m\u001b[0m\u001b[0m\n\u001b[0;32m      2\u001b[0m \u001b[0mPred_1\u001b[0m\u001b[1;33m=\u001b[0m\u001b[1;33m[\u001b[0m\u001b[1;33m]\u001b[0m\u001b[1;33m\u001b[0m\u001b[1;33m\u001b[0m\u001b[0m\n\u001b[1;32m----> 3\u001b[1;33m \u001b[1;32mwhile\u001b[0m\u001b[1;33m(\u001b[0m\u001b[0mi\u001b[0m\u001b[1;33m<\u001b[0m\u001b[0mlen\u001b[0m\u001b[1;33m(\u001b[0m\u001b[0mpred\u001b[0m\u001b[1;33m[\u001b[0m\u001b[1;36m0\u001b[0m\u001b[1;33m]\u001b[0m\u001b[1;33m)\u001b[0m\u001b[1;33m)\u001b[0m\u001b[1;33m:\u001b[0m\u001b[1;33m\u001b[0m\u001b[1;33m\u001b[0m\u001b[0m\n\u001b[0m\u001b[0;32m      4\u001b[0m     \u001b[0mPred_1\u001b[0m\u001b[1;33m.\u001b[0m\u001b[0mappend\u001b[0m\u001b[1;33m(\u001b[0m\u001b[0mint\u001b[0m\u001b[1;33m(\u001b[0m\u001b[0mnp\u001b[0m\u001b[1;33m.\u001b[0m\u001b[0mround\u001b[0m\u001b[1;33m(\u001b[0m\u001b[0mpred\u001b[0m\u001b[1;33m[\u001b[0m\u001b[1;36m0\u001b[0m\u001b[1;33m]\u001b[0m\u001b[1;33m[\u001b[0m\u001b[0mi\u001b[0m\u001b[1;33m]\u001b[0m\u001b[1;33m)\u001b[0m\u001b[1;33m)\u001b[0m\u001b[1;33m)\u001b[0m\u001b[1;33m\u001b[0m\u001b[1;33m\u001b[0m\u001b[0m\n\u001b[0;32m      5\u001b[0m     \u001b[0mi\u001b[0m\u001b[1;33m=\u001b[0m\u001b[0mi\u001b[0m\u001b[1;33m+\u001b[0m\u001b[1;36m1\u001b[0m\u001b[1;33m\u001b[0m\u001b[1;33m\u001b[0m\u001b[0m\n",
      "\u001b[1;31mNameError\u001b[0m: name 'pred' is not defined"
     ]
    }
   ],
   "source": [
    "i=0\n",
    "Pred_1=[]\n",
    "while(i<len(pred[0])):\n",
    "    Pred_1.append(int(np.round(pred[0][i])))\n",
    "    i=i+1\n",
    "    "
   ]
  },
  {
   "cell_type": "code",
   "execution_count": 7,
   "metadata": {},
   "outputs": [],
   "source": [
    "from sklearn.metrics import confusion_matrix\n",
    "from sklearn.metrics import classification_report"
   ]
  },
  {
   "cell_type": "code",
   "execution_count": 8,
   "metadata": {},
   "outputs": [
    {
     "output_type": "error",
     "ename": "NameError",
     "evalue": "name 'Y_test_2' is not defined",
     "traceback": [
      "\u001b[1;31m---------------------------------------------------------------------------\u001b[0m",
      "\u001b[1;31mNameError\u001b[0m                                 Traceback (most recent call last)",
      "\u001b[1;32m<ipython-input-8-51c72d4ccfb3>\u001b[0m in \u001b[0;36m<module>\u001b[1;34m\u001b[0m\n\u001b[1;32m----> 1\u001b[1;33m \u001b[0mreport\u001b[0m\u001b[1;33m=\u001b[0m\u001b[0mclassification_report\u001b[0m\u001b[1;33m(\u001b[0m\u001b[0mY_test_2\u001b[0m\u001b[1;33m[\u001b[0m\u001b[1;36m0\u001b[0m\u001b[1;33m]\u001b[0m\u001b[1;33m,\u001b[0m\u001b[0mPred_1\u001b[0m\u001b[1;33m)\u001b[0m\u001b[1;33m\u001b[0m\u001b[1;33m\u001b[0m\u001b[0m\n\u001b[0m",
      "\u001b[1;31mNameError\u001b[0m: name 'Y_test_2' is not defined"
     ]
    }
   ],
   "source": [
    "report=classification_report(Y_test_2[0],Pred_1)"
   ]
  },
  {
   "cell_type": "code",
   "execution_count": 9,
   "metadata": {},
   "outputs": [
    {
     "output_type": "error",
     "ename": "NameError",
     "evalue": "name 'report' is not defined",
     "traceback": [
      "\u001b[1;31m---------------------------------------------------------------------------\u001b[0m",
      "\u001b[1;31mNameError\u001b[0m                                 Traceback (most recent call last)",
      "\u001b[1;32m<ipython-input-9-5a129b136ed0>\u001b[0m in \u001b[0;36m<module>\u001b[1;34m\u001b[0m\n\u001b[1;32m----> 1\u001b[1;33m \u001b[0mprint\u001b[0m\u001b[1;33m(\u001b[0m\u001b[0mreport\u001b[0m\u001b[1;33m)\u001b[0m\u001b[1;33m\u001b[0m\u001b[1;33m\u001b[0m\u001b[0m\n\u001b[0m",
      "\u001b[1;31mNameError\u001b[0m: name 'report' is not defined"
     ]
    }
   ],
   "source": [
    "print(report)"
   ]
  },
  {
   "source": [
    "## making heatmap of the model(gender only)"
   ],
   "cell_type": "markdown",
   "metadata": {}
  },
  {
   "cell_type": "code",
   "execution_count": null,
   "metadata": {},
   "outputs": [],
   "source": [
    "results=confusion_matrix(Y_test_2[0],Pred_1)"
   ]
  },
  {
   "cell_type": "code",
   "execution_count": 10,
   "metadata": {},
   "outputs": [
    {
     "output_type": "error",
     "ename": "NameError",
     "evalue": "name 'results' is not defined",
     "traceback": [
      "\u001b[1;31m---------------------------------------------------------------------------\u001b[0m",
      "\u001b[1;31mNameError\u001b[0m                                 Traceback (most recent call last)",
      "\u001b[1;32m<ipython-input-10-dd67e361b397>\u001b[0m in \u001b[0;36m<module>\u001b[1;34m\u001b[0m\n\u001b[0;32m      1\u001b[0m \u001b[1;32mimport\u001b[0m \u001b[0mseaborn\u001b[0m \u001b[1;32mas\u001b[0m \u001b[0msns\u001b[0m\u001b[1;33m\u001b[0m\u001b[1;33m\u001b[0m\u001b[0m\n\u001b[1;32m----> 2\u001b[1;33m \u001b[0msns\u001b[0m\u001b[1;33m.\u001b[0m\u001b[0mheatmap\u001b[0m\u001b[1;33m(\u001b[0m\u001b[0mresults\u001b[0m\u001b[1;33m,\u001b[0m\u001b[0mannot\u001b[0m\u001b[1;33m=\u001b[0m\u001b[1;32mTrue\u001b[0m\u001b[1;33m)\u001b[0m\u001b[1;33m\u001b[0m\u001b[1;33m\u001b[0m\u001b[0m\n\u001b[0m",
      "\u001b[1;31mNameError\u001b[0m: name 'results' is not defined"
     ]
    }
   ],
   "source": [
    "import seaborn as sns\n",
    "sns.heatmap(results,annot=True)"
   ]
  },
  {
   "source": [
    "## Testing the images ourself"
   ],
   "cell_type": "markdown",
   "metadata": {}
  },
  {
   "cell_type": "code",
   "execution_count": 11,
   "metadata": {},
   "outputs": [],
   "source": [
    "def test_image(ind,images_f,images_f_2,Model):\n",
    "    plt.imshow(images_f[ind])\n",
    "    image_test=images_f_2[ind]\n",
    "    pred_l=Model.predict(np.array([image_test]))\n",
    "    sex_f=['Male','Female']\n",
    "    age=int(np.round(pred_l[1][0]))\n",
    "    sex=int(np.round(pred_l[0][0]))\n",
    "    print(\"Predicted Age is \"+ str(age))\n",
    "    print(\"Predicted Gender is \"+ sex_f[sex])"
   ]
  },
  {
   "source": [
    "## test 1"
   ],
   "cell_type": "markdown",
   "metadata": {}
  },
  {
   "cell_type": "code",
   "execution_count": 12,
   "metadata": {},
   "outputs": [
    {
     "output_type": "error",
     "ename": "NameError",
     "evalue": "name 'images_f' is not defined",
     "traceback": [
      "\u001b[1;31m---------------------------------------------------------------------------\u001b[0m",
      "\u001b[1;31mNameError\u001b[0m                                 Traceback (most recent call last)",
      "\u001b[1;32m<ipython-input-12-015cc048eb1f>\u001b[0m in \u001b[0;36m<module>\u001b[1;34m\u001b[0m\n\u001b[1;32m----> 1\u001b[1;33m \u001b[0mtest_image\u001b[0m\u001b[1;33m(\u001b[0m\u001b[1;36m4\u001b[0m\u001b[1;33m,\u001b[0m\u001b[0mimages_f\u001b[0m\u001b[1;33m,\u001b[0m\u001b[0mimages_f_2\u001b[0m\u001b[1;33m,\u001b[0m\u001b[0mModel\u001b[0m\u001b[1;33m)\u001b[0m\u001b[1;33m\u001b[0m\u001b[1;33m\u001b[0m\u001b[0m\n\u001b[0m",
      "\u001b[1;31mNameError\u001b[0m: name 'images_f' is not defined"
     ]
    }
   ],
   "source": [
    "test_image(4,images_f,images_f_2,Model)"
   ]
  },
  {
   "source": [
    "## test 2"
   ],
   "cell_type": "markdown",
   "metadata": {}
  },
  {
   "cell_type": "code",
   "execution_count": 13,
   "metadata": {},
   "outputs": [
    {
     "output_type": "error",
     "ename": "NameError",
     "evalue": "name 'images_f' is not defined",
     "traceback": [
      "\u001b[1;31m---------------------------------------------------------------------------\u001b[0m",
      "\u001b[1;31mNameError\u001b[0m                                 Traceback (most recent call last)",
      "\u001b[1;32m<ipython-input-13-7924981e1e6e>\u001b[0m in \u001b[0;36m<module>\u001b[1;34m\u001b[0m\n\u001b[1;32m----> 1\u001b[1;33m \u001b[0mtest_image\u001b[0m\u001b[1;33m(\u001b[0m\u001b[1;36m23\u001b[0m\u001b[1;33m,\u001b[0m\u001b[0mimages_f\u001b[0m\u001b[1;33m,\u001b[0m\u001b[0mimages_f_2\u001b[0m\u001b[1;33m,\u001b[0m\u001b[0mModel\u001b[0m\u001b[1;33m)\u001b[0m\u001b[1;33m\u001b[0m\u001b[1;33m\u001b[0m\u001b[0m\n\u001b[0m",
      "\u001b[1;31mNameError\u001b[0m: name 'images_f' is not defined"
     ]
    }
   ],
   "source": [
    "test_image(23,images_f,images_f_2,Model)"
   ]
  },
  {
   "source": [
    "## test 3"
   ],
   "cell_type": "markdown",
   "metadata": {}
  },
  {
   "cell_type": "code",
   "execution_count": 14,
   "metadata": {},
   "outputs": [
    {
     "output_type": "error",
     "ename": "NameError",
     "evalue": "name 'images_f' is not defined",
     "traceback": [
      "\u001b[1;31m---------------------------------------------------------------------------\u001b[0m",
      "\u001b[1;31mNameError\u001b[0m                                 Traceback (most recent call last)",
      "\u001b[1;32m<ipython-input-14-d6b44503f10c>\u001b[0m in \u001b[0;36m<module>\u001b[1;34m\u001b[0m\n\u001b[1;32m----> 1\u001b[1;33m \u001b[0mtest_image\u001b[0m\u001b[1;33m(\u001b[0m\u001b[1;36m168\u001b[0m\u001b[1;33m,\u001b[0m\u001b[0mimages_f\u001b[0m\u001b[1;33m,\u001b[0m\u001b[0mimages_f_2\u001b[0m\u001b[1;33m,\u001b[0m\u001b[0mModel\u001b[0m\u001b[1;33m)\u001b[0m\u001b[1;33m\u001b[0m\u001b[1;33m\u001b[0m\u001b[0m\n\u001b[0m",
      "\u001b[1;31mNameError\u001b[0m: name 'images_f' is not defined"
     ]
    }
   ],
   "source": [
    "test_image(168,images_f,images_f_2,Model)"
   ]
  },
  {
   "source": [
    "## test 4\n",
    "### error in age in this case"
   ],
   "cell_type": "markdown",
   "metadata": {}
  },
  {
   "cell_type": "code",
   "execution_count": 15,
   "metadata": {},
   "outputs": [
    {
     "output_type": "error",
     "ename": "NameError",
     "evalue": "name 'images_f' is not defined",
     "traceback": [
      "\u001b[1;31m---------------------------------------------------------------------------\u001b[0m",
      "\u001b[1;31mNameError\u001b[0m                                 Traceback (most recent call last)",
      "\u001b[1;32m<ipython-input-15-3fce28b35648>\u001b[0m in \u001b[0;36m<module>\u001b[1;34m\u001b[0m\n\u001b[1;32m----> 1\u001b[1;33m \u001b[0mtest_image\u001b[0m\u001b[1;33m(\u001b[0m\u001b[1;36m888\u001b[0m\u001b[1;33m,\u001b[0m\u001b[0mimages_f\u001b[0m\u001b[1;33m,\u001b[0m\u001b[0mimages_f_2\u001b[0m\u001b[1;33m,\u001b[0m\u001b[0mModel\u001b[0m\u001b[1;33m)\u001b[0m\u001b[1;33m\u001b[0m\u001b[1;33m\u001b[0m\u001b[0m\n\u001b[0m",
      "\u001b[1;31mNameError\u001b[0m: name 'images_f' is not defined"
     ]
    }
   ],
   "source": [
    "test_image(888,images_f,images_f_2,Model)"
   ]
  },
  {
   "source": [
    "## test 5"
   ],
   "cell_type": "markdown",
   "metadata": {}
  },
  {
   "cell_type": "code",
   "execution_count": 16,
   "metadata": {},
   "outputs": [
    {
     "output_type": "error",
     "ename": "NameError",
     "evalue": "name 'images_f' is not defined",
     "traceback": [
      "\u001b[1;31m---------------------------------------------------------------------------\u001b[0m",
      "\u001b[1;31mNameError\u001b[0m                                 Traceback (most recent call last)",
      "\u001b[1;32m<ipython-input-16-f76668b6dde9>\u001b[0m in \u001b[0;36m<module>\u001b[1;34m\u001b[0m\n\u001b[1;32m----> 1\u001b[1;33m \u001b[0mtest_image\u001b[0m\u001b[1;33m(\u001b[0m\u001b[1;36m1288\u001b[0m\u001b[1;33m,\u001b[0m\u001b[0mimages_f\u001b[0m\u001b[1;33m,\u001b[0m\u001b[0mimages_f_2\u001b[0m\u001b[1;33m,\u001b[0m\u001b[0mModel\u001b[0m\u001b[1;33m)\u001b[0m\u001b[1;33m\u001b[0m\u001b[1;33m\u001b[0m\u001b[0m\n\u001b[0m",
      "\u001b[1;31mNameError\u001b[0m: name 'images_f' is not defined"
     ]
    }
   ],
   "source": [
    "test_image(1288,images_f,images_f_2,Model)"
   ]
  },
  {
   "cell_type": "code",
   "execution_count": null,
   "metadata": {},
   "outputs": [],
   "source": []
  }
 ]
}